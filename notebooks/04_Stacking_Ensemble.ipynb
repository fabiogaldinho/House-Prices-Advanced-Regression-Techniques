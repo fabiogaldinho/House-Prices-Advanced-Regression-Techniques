{
 "cells": [
  {
   "cell_type": "code",
   "execution_count": 1,
   "metadata": {
    "colab": {
     "base_uri": "https://localhost:8080/"
    },
    "executionInfo": {
     "elapsed": 16927,
     "status": "ok",
     "timestamp": 1742462637725,
     "user": {
      "displayName": "Fabio Galdino",
      "userId": "13365281725279063732"
     },
     "user_tz": 180
    },
    "id": "sFb15MD0B8KY",
    "outputId": "bda707a6-4f02-4ce5-914d-03e39af6b58e",
    "scrolled": true
   },
   "outputs": [
    {
     "name": "stdout",
     "output_type": "stream",
     "text": [
      "Requirement already satisfied: xgboost in /opt/anaconda3/lib/python3.12/site-packages (2.1.4)\n",
      "Requirement already satisfied: numpy in /opt/anaconda3/lib/python3.12/site-packages (from xgboost) (1.26.4)\n",
      "Requirement already satisfied: scipy in /opt/anaconda3/lib/python3.12/site-packages (from xgboost) (1.13.1)\n",
      "Requirement already satisfied: lightgbm in /opt/anaconda3/lib/python3.12/site-packages (4.6.0)\n",
      "Requirement already satisfied: numpy>=1.17.0 in /opt/anaconda3/lib/python3.12/site-packages (from lightgbm) (1.26.4)\n",
      "Requirement already satisfied: scipy in /opt/anaconda3/lib/python3.12/site-packages (from lightgbm) (1.13.1)\n",
      "Requirement already satisfied: catboost in /opt/anaconda3/lib/python3.12/site-packages (1.2.7)\n",
      "Requirement already satisfied: graphviz in /opt/anaconda3/lib/python3.12/site-packages (from catboost) (0.20.3)\n",
      "Requirement already satisfied: matplotlib in /opt/anaconda3/lib/python3.12/site-packages (from catboost) (3.9.2)\n",
      "Requirement already satisfied: numpy<2.0,>=1.16.0 in /opt/anaconda3/lib/python3.12/site-packages (from catboost) (1.26.4)\n",
      "Requirement already satisfied: pandas>=0.24 in /opt/anaconda3/lib/python3.12/site-packages (from catboost) (2.2.2)\n",
      "Requirement already satisfied: scipy in /opt/anaconda3/lib/python3.12/site-packages (from catboost) (1.13.1)\n",
      "Requirement already satisfied: plotly in /opt/anaconda3/lib/python3.12/site-packages (from catboost) (5.24.1)\n",
      "Requirement already satisfied: six in /opt/anaconda3/lib/python3.12/site-packages (from catboost) (1.16.0)\n",
      "Requirement already satisfied: python-dateutil>=2.8.2 in /opt/anaconda3/lib/python3.12/site-packages (from pandas>=0.24->catboost) (2.9.0.post0)\n",
      "Requirement already satisfied: pytz>=2020.1 in /opt/anaconda3/lib/python3.12/site-packages (from pandas>=0.24->catboost) (2024.1)\n",
      "Requirement already satisfied: tzdata>=2022.7 in /opt/anaconda3/lib/python3.12/site-packages (from pandas>=0.24->catboost) (2023.3)\n",
      "Requirement already satisfied: contourpy>=1.0.1 in /opt/anaconda3/lib/python3.12/site-packages (from matplotlib->catboost) (1.2.0)\n",
      "Requirement already satisfied: cycler>=0.10 in /opt/anaconda3/lib/python3.12/site-packages (from matplotlib->catboost) (0.11.0)\n",
      "Requirement already satisfied: fonttools>=4.22.0 in /opt/anaconda3/lib/python3.12/site-packages (from matplotlib->catboost) (4.51.0)\n",
      "Requirement already satisfied: kiwisolver>=1.3.1 in /opt/anaconda3/lib/python3.12/site-packages (from matplotlib->catboost) (1.4.4)\n",
      "Requirement already satisfied: packaging>=20.0 in /opt/anaconda3/lib/python3.12/site-packages (from matplotlib->catboost) (24.1)\n",
      "Requirement already satisfied: pillow>=8 in /opt/anaconda3/lib/python3.12/site-packages (from matplotlib->catboost) (10.4.0)\n",
      "Requirement already satisfied: pyparsing>=2.3.1 in /opt/anaconda3/lib/python3.12/site-packages (from matplotlib->catboost) (3.1.2)\n",
      "Requirement already satisfied: tenacity>=6.2.0 in /opt/anaconda3/lib/python3.12/site-packages (from plotly->catboost) (8.2.3)\n",
      "Requirement already satisfied: optuna in /opt/anaconda3/lib/python3.12/site-packages (4.2.1)\n",
      "Requirement already satisfied: alembic>=1.5.0 in /opt/anaconda3/lib/python3.12/site-packages (from optuna) (1.13.3)\n",
      "Requirement already satisfied: colorlog in /opt/anaconda3/lib/python3.12/site-packages (from optuna) (6.9.0)\n",
      "Requirement already satisfied: numpy in /opt/anaconda3/lib/python3.12/site-packages (from optuna) (1.26.4)\n",
      "Requirement already satisfied: packaging>=20.0 in /opt/anaconda3/lib/python3.12/site-packages (from optuna) (24.1)\n",
      "Requirement already satisfied: sqlalchemy>=1.4.2 in /opt/anaconda3/lib/python3.12/site-packages (from optuna) (2.0.34)\n",
      "Requirement already satisfied: tqdm in /opt/anaconda3/lib/python3.12/site-packages (from optuna) (4.66.5)\n",
      "Requirement already satisfied: PyYAML in /opt/anaconda3/lib/python3.12/site-packages (from optuna) (6.0.1)\n",
      "Requirement already satisfied: Mako in /opt/anaconda3/lib/python3.12/site-packages (from alembic>=1.5.0->optuna) (1.2.3)\n",
      "Requirement already satisfied: typing-extensions>=4 in /opt/anaconda3/lib/python3.12/site-packages (from alembic>=1.5.0->optuna) (4.11.0)\n",
      "Requirement already satisfied: MarkupSafe>=0.9.2 in /opt/anaconda3/lib/python3.12/site-packages (from Mako->alembic>=1.5.0->optuna) (2.1.3)\n"
     ]
    }
   ],
   "source": [
    "import pandas as pd\n",
    "import numpy as np\n",
    "import matplotlib.pyplot as plt\n",
    "import seaborn as sns\n",
    "from scipy import stats\n",
    "\n",
    "from sklearn.preprocessing import MaxAbsScaler\n",
    "from sklearn.model_selection import train_test_split, cross_val_score, KFold\n",
    "from sklearn.metrics import mean_squared_error, r2_score, root_mean_squared_error\n",
    "from sklearn.ensemble import GradientBoostingRegressor\n",
    "\n",
    "from statsmodels.stats.outliers_influence import variance_inflation_factor\n",
    "\n",
    "!pip install xgboost\n",
    "import xgboost as xgb\n",
    "\n",
    "!pip install lightgbm\n",
    "from lightgbm import LGBMRegressor\n",
    "\n",
    "!pip install catboost\n",
    "from catboost import CatBoostRegressor\n",
    "\n",
    "!pip install optuna\n",
    "import optuna\n",
    "\n",
    "pd.set_option('display.max_columns', None)\n",
    "pd.set_option('display.max_rows', 400)\n",
    "\n",
    "plt.style.use('seaborn-v0_8-deep')\n",
    "\n",
    "%matplotlib inline"
   ]
  },
  {
   "cell_type": "code",
   "execution_count": 2,
   "metadata": {
    "id": "w4tqXOpSDSxV"
   },
   "outputs": [],
   "source": [
    "def warn(*args, **kwargs):\n",
    "    pass\n",
    "import warnings\n",
    "warnings.warn = warn"
   ]
  },
  {
   "cell_type": "markdown",
   "metadata": {
    "id": "7eXX_FTFfGgQ",
    "jp-MarkdownHeadingCollapsed": true
   },
   "source": [
    "# **FUNCTIONS**"
   ]
  },
  {
   "cell_type": "markdown",
   "metadata": {
    "id": "6XADo346SGRf",
    "jp-MarkdownHeadingCollapsed": true
   },
   "source": [
    "## **Scatter Plot**"
   ]
  },
  {
   "cell_type": "code",
   "execution_count": 5,
   "metadata": {
    "id": "BuTI3cV6Kn2k"
   },
   "outputs": [],
   "source": [
    "def PlotScatter(x, y, title, xunit, yunit, format_x, x_size):\n",
    "    plt.figure().patch.set_facecolor(\"0.85\")\n",
    "    plt.axes().set(facecolor = \"0.85\")\n",
    "\n",
    "    plt.title(title)\n",
    "    plt.scatter(x, y, alpha=0.7)\n",
    "\n",
    "    plt.grid(False)\n",
    "    plt.gca().spines['bottom'].set_visible(True)\n",
    "    plt.gca().spines['left'].set_visible(True)\n",
    "    plt.gca().spines['top'].set_visible(False)\n",
    "    plt.gca().spines['right'].set_visible(False)\n",
    "    plt.gca().spines['bottom'].set_color(\"black\")\n",
    "    plt.gca().spines['left'].set_color(\"black\")\n",
    "\n",
    "    plt.gca().set_xlabel(xunit, fontsize = 10)\n",
    "    plt.gca().xaxis.set_label_coords(1.05, -0.025)\n",
    "    plt.gca().set_ylabel(yunit, fontsize = 10)\n",
    "    plt.gca().yaxis.set_label_coords(-0.16, .98)\n",
    "\n",
    "    plt.gca().set_yticklabels(['{:,.0f}'.format(x) for x in plt.gca().get_yticks()])\n",
    "\n",
    "    if (format_x == 1):\n",
    "        plt.gca().set_xticklabels(['{:,.0f}'.format(x) for x in plt.gca().get_xticks()])\n",
    "\n",
    "    if (x_size == 0):\n",
    "        plt.gcf().set_size_inches(6, 5)\n",
    "    else:\n",
    "        plt.gcf().set_size_inches(x_size, 5)\n",
    "    plt.show()\n",
    "    plt.close()"
   ]
  },
  {
   "cell_type": "markdown",
   "metadata": {
    "id": "Cad3sCrwSJQO",
    "jp-MarkdownHeadingCollapsed": true
   },
   "source": [
    "## **Box Plot**"
   ]
  },
  {
   "cell_type": "code",
   "execution_count": 7,
   "metadata": {
    "id": "QUOoSXrduKGK"
   },
   "outputs": [],
   "source": [
    "def PlotBoxPlot(df_x, df_y, title, yunit):\n",
    "    plt.figure(figsize=(6, 5))\n",
    "    plt.figure().patch.set_facecolor(\"0.85\")\n",
    "    plt.axes().set(facecolor = \"0.85\")\n",
    "\n",
    "    plt.title(title)\n",
    "    sns.boxplot(x = df_x, y = df_y, palette = \"mako\")\n",
    "\n",
    "    plt.grid(False)\n",
    "    plt.gca().spines['bottom'].set_visible(True)\n",
    "    plt.gca().spines['left'].set_visible(True)\n",
    "    plt.gca().spines['top'].set_visible(False)\n",
    "    plt.gca().spines['right'].set_visible(False)\n",
    "    plt.gca().spines['bottom'].set_color(\"black\")\n",
    "    plt.gca().spines['left'].set_color(\"black\")\n",
    "\n",
    "    plt.gca().set_ylabel(yunit, fontsize = 10)\n",
    "    plt.gca().yaxis.set_label_coords(-0.16, .98)\n",
    "\n",
    "    plt.gca().set_xlabel(\"\", fontsize = 1)\n",
    "\n",
    "    plt.gca().set_yticklabels(['{:,.0f}'.format(x) for x in plt.gca().get_yticks()])\n",
    "\n",
    "    plt.show()\n",
    "    plt.close()"
   ]
  },
  {
   "cell_type": "code",
   "execution_count": 8,
   "metadata": {
    "id": "cOmDwQHFfiGc"
   },
   "outputs": [],
   "source": [
    "def PlotBoxPlotV2(df_x, df_y, title, yunit, size_x, size_y):\n",
    "    plt.figure().patch.set_facecolor(\"0.85\")\n",
    "    plt.axes().set(facecolor = \"0.85\")\n",
    "\n",
    "    plt.title(title)\n",
    "    sns.boxplot(x = df_x, y = df_y, palette = \"mako\")\n",
    "\n",
    "    plt.grid(False)\n",
    "    plt.gca().spines['bottom'].set_visible(True)\n",
    "    plt.gca().spines['left'].set_visible(True)\n",
    "    plt.gca().spines['top'].set_visible(False)\n",
    "    plt.gca().spines['right'].set_visible(False)\n",
    "    plt.gca().spines['bottom'].set_color(\"black\")\n",
    "    plt.gca().spines['left'].set_color(\"black\")\n",
    "\n",
    "    plt.gca().set_ylabel(yunit, fontsize = 10)\n",
    "    plt.gca().yaxis.set_label_coords(-0.16, .98)\n",
    "\n",
    "    plt.gca().set_xlabel(\"\", fontsize = 1)\n",
    "\n",
    "    plt.gca().set_yticklabels(['{:,.0f}'.format(x) for x in plt.gca().get_yticks()])\n",
    "\n",
    "    plt.gcf().set_size_inches(size_x, size_y)\n",
    "\n",
    "    plt.show()\n",
    "    plt.close()"
   ]
  },
  {
   "cell_type": "markdown",
   "metadata": {
    "id": "6Ed8PlT1Sdbe",
    "jp-MarkdownHeadingCollapsed": true
   },
   "source": [
    "## **Regression Plot**"
   ]
  },
  {
   "cell_type": "code",
   "execution_count": 10,
   "metadata": {
    "id": "5GOcEW7FCTpZ"
   },
   "outputs": [],
   "source": [
    "def PlotRegPlot(df_x, df_y, title, xunit, yunit):\n",
    "    plt.figure(figsize=(6, 5))\n",
    "    plt.figure().patch.set_facecolor(\"0.85\")\n",
    "    plt.axes().set(facecolor = \"0.85\")\n",
    "\n",
    "    plt.title(title)\n",
    "    sns.regplot(x = df_x, y = df_y, line_kws={\"color\": \"#31273F\"})\n",
    "\n",
    "    plt.grid(False)\n",
    "    plt.gca().spines['bottom'].set_visible(True)\n",
    "    plt.gca().spines['left'].set_visible(True)\n",
    "    plt.gca().spines['top'].set_visible(False)\n",
    "    plt.gca().spines['right'].set_visible(False)\n",
    "    plt.gca().spines['bottom'].set_color(\"black\")\n",
    "    plt.gca().spines['left'].set_color(\"black\")\n",
    "\n",
    "    plt.gca().set_ylabel(yunit, fontsize = 10)\n",
    "    plt.gca().yaxis.set_label_coords(-0.16, .98)\n",
    "\n",
    "    plt.gca().set_xlabel(xunit, fontsize = 10)\n",
    "    plt.gca().xaxis.set_label_coords(1.05, -0.025)\n",
    "\n",
    "    plt.gca().set_yticklabels(['{:,.0f}'.format(x) for x in plt.gca().get_yticks()])\n",
    "    plt.gca().set_xticklabels(['{:,.0f}'.format(x) for x in plt.gca().get_xticks()])\n",
    "\n",
    "    plt.show()\n",
    "    plt.close()"
   ]
  },
  {
   "cell_type": "code",
   "execution_count": 11,
   "metadata": {},
   "outputs": [],
   "source": [
    "def PlotRegPlot2(df_x, df_y, title):\n",
    "    plt.figure(figsize=(6, 5))\n",
    "    plt.figure().patch.set_facecolor(\"0.85\")\n",
    "    plt.axes().set(facecolor = \"0.85\")\n",
    "    \n",
    "    plt.title(title)\n",
    "    sns.regplot(x = df_x, y = df_y, line_kws={\"color\": \"#31273F\"})\n",
    "    \n",
    "    plt.grid(False)\n",
    "    plt.gca().spines['bottom'].set_visible(True)\n",
    "    plt.gca().spines['left'].set_visible(True)\n",
    "    plt.gca().spines['top'].set_visible(False)\n",
    "    plt.gca().spines['right'].set_visible(False)\n",
    "    plt.gca().spines['bottom'].set_color(\"black\")\n",
    "    plt.gca().spines['left'].set_color(\"black\")\n",
    "\n",
    "    plt.gca().set_ylabel(\"US$\", fontsize = 10)\n",
    "    plt.gca().yaxis.set_label_coords(-0.16, .98)\n",
    "    plt.gca().set_xlabel(\"\", fontsize = 10)\n",
    "\n",
    "    plt.gca().set_yticklabels(['{:,.0f}'.format(x) for x in plt.gca().get_yticks()])\n",
    "\n",
    "    plt.xlim(0,)\n",
    "    plt.ylim(0,)\n",
    "\n",
    "    plt.show()\n",
    "    plt.close()"
   ]
  },
  {
   "cell_type": "markdown",
   "metadata": {
    "id": "MgIA5--7Sl8v",
    "jp-MarkdownHeadingCollapsed": true
   },
   "source": [
    "## **Histogram**"
   ]
  },
  {
   "cell_type": "code",
   "execution_count": 13,
   "metadata": {
    "id": "wt0ko4VSRVfA"
   },
   "outputs": [],
   "source": [
    "def HistPlot(x, title, xunit, x_size):\n",
    "    plt.figure().patch.set_facecolor(\"0.85\")\n",
    "    plt.axes().set(facecolor = \"0.85\")\n",
    "\n",
    "    plt.title(title)\n",
    "    sns.histplot(x = x)\n",
    "\n",
    "    plt.grid(False)\n",
    "    plt.gca().spines['bottom'].set_visible(True)\n",
    "    plt.gca().spines['left'].set_visible(True)\n",
    "    plt.gca().spines['top'].set_visible(False)\n",
    "    plt.gca().spines['right'].set_visible(False)\n",
    "    plt.gca().spines['bottom'].set_color(\"black\")\n",
    "    plt.gca().spines['left'].set_color(\"black\")\n",
    "\n",
    "    plt.gca().set_xlabel(xunit, fontsize = 10)\n",
    "    plt.gca().xaxis.set_label_coords(0.98, -0.08)\n",
    "\n",
    "    plt.ylabel(\"Count\")\n",
    "\n",
    "    if (x_size == 0):\n",
    "        plt.gcf().set_size_inches(6, 5)\n",
    "    else:\n",
    "        plt.gcf().set_size_inches(x_size, 5)\n",
    "\n",
    "    plt.show()\n",
    "    plt.close()"
   ]
  },
  {
   "cell_type": "markdown",
   "metadata": {
    "id": "DGKyYIQiSvz2",
    "jp-MarkdownHeadingCollapsed": true
   },
   "source": [
    "## **Predicted vs Actual Values**"
   ]
  },
  {
   "cell_type": "code",
   "execution_count": 15,
   "metadata": {},
   "outputs": [],
   "source": [
    "def PlotFitted(y_test, yhat, title):\n",
    "    plt.figure().patch.set_facecolor(\"0.85\")\n",
    "    plt.axes().set(facecolor = \"0.85\")\n",
    "    \n",
    "    plt.title(title)\n",
    "\n",
    "    y_test1 = np.exp(y_test)\n",
    "    yhat1 = np.exp(yhat)\n",
    "\n",
    "    sns.scatterplot(x=y_test1.to_numpy().flatten(), y=yhat1, alpha=0.6)\n",
    "    plt.plot([y_test1.min(), y_test1.max()], [y_test1.min(), y_test1.max()], 'r--')\n",
    "\n",
    "    plt.grid(False)\n",
    "    plt.gca().spines['bottom'].set_visible(True)\n",
    "    plt.gca().spines['left'].set_visible(True)\n",
    "    plt.gca().spines['top'].set_visible(False)\n",
    "    plt.gca().spines['right'].set_visible(False)\n",
    "    plt.gca().spines['bottom'].set_color(\"black\")\n",
    "    plt.gca().spines['left'].set_color(\"black\")\n",
    "    \n",
    "    plt.xlabel(\"Actual Values\")\n",
    "    plt.ylabel(\"Predicted Values\")\n",
    "\n",
    "    plt.gcf().set_size_inches(7, 5)\n",
    "\n",
    "    plt.ylim(0,)\n",
    "    plt.xlim(0,)\n",
    "    \n",
    "    plt.show()\n",
    "    plt.close()\n",
    "    \n",
    "    \n",
    "    print(\"\\n- Mean Squared Error:\", mean_squared_error(y_test, yhat))\n",
    "    print(\"- Root Mean Squared Error:\", root_mean_squared_error(y_test, yhat))"
   ]
  },
  {
   "cell_type": "code",
   "execution_count": 16,
   "metadata": {
    "id": "LzpOFTpbNITD"
   },
   "outputs": [],
   "source": [
    "def PlotFittedV(yhat, y_test, model, x_data, y_data, title, xlabel):\n",
    "    plt.figure().patch.set_facecolor(\"0.85\")\n",
    "    plt.axes().set(facecolor = \"0.85\")\n",
    "\n",
    "    plt.title(title)\n",
    "\n",
    "    ax2 = sns.distplot(y_test, hist=False, color=\"r\", label = \"Actual Value\")\n",
    "    sns.distplot(yhat, hist=False, color=\"b\", label=\"Predicted Value\", ax = ax2)\n",
    "\n",
    "    plt.grid(False)\n",
    "    plt.gca().spines['bottom'].set_visible(True)\n",
    "    plt.gca().spines['left'].set_visible(True)\n",
    "    plt.gca().spines['top'].set_visible(False)\n",
    "    plt.gca().spines['right'].set_visible(False)\n",
    "    plt.gca().spines['bottom'].set_color(\"black\")\n",
    "    plt.gca().spines['left'].set_color(\"black\")\n",
    "\n",
    "    plt.ylabel(\"Density\")\n",
    "    plt.xlabel(xlabel)\n",
    "    plt.legend(['Actual Value', 'Predicted Value'], framealpha=0)\n",
    "\n",
    "    plt.gcf().set_size_inches(7, 5)\n",
    "\n",
    "    plt.show()\n",
    "    plt.close()\n",
    "\n",
    "    print(\"\\n- Mean Squared Error:\", mean_squared_error(y_test, yhat))\n",
    "    print(\"- Root Mean Squared Error:\", root_mean_squared_error(y_test, yhat))\n",
    "    print(\"- Cross-Validation Score:\", cross_val_score(model, x_data, y_data, cv=5).mean())"
   ]
  },
  {
   "cell_type": "code",
   "execution_count": 17,
   "metadata": {
    "id": "Q0tPHouScTbi"
   },
   "outputs": [],
   "source": [
    "def PlotFittedV2(yhat, y_test, title, xlabel):\n",
    "    plt.figure().patch.set_facecolor(\"0.85\")\n",
    "    plt.axes().set(facecolor = \"0.85\")\n",
    "\n",
    "    plt.title(title)\n",
    "\n",
    "    ax2 = sns.distplot(np.exp(y_test), hist=False, color=\"r\", label = \"Actual Value\")\n",
    "    sns.distplot(np.exp(yhat), hist=False, color=\"b\", label=\"Predicted Value\", ax = ax2)\n",
    "\n",
    "    plt.grid(False)\n",
    "    plt.gca().spines['bottom'].set_visible(True)\n",
    "    plt.gca().spines['left'].set_visible(True)\n",
    "    plt.gca().spines['top'].set_visible(False)\n",
    "    plt.gca().spines['right'].set_visible(False)\n",
    "    plt.gca().spines['bottom'].set_color(\"black\")\n",
    "    plt.gca().spines['left'].set_color(\"black\")\n",
    "\n",
    "    plt.ylabel(\"Density\")\n",
    "    plt.xlabel(xlabel)\n",
    "    plt.legend(['Actual Value', 'Predicted Value'], framealpha=0)\n",
    "\n",
    "    plt.gcf().set_size_inches(7, 5)\n",
    "\n",
    "    plt.show()\n",
    "    plt.close()\n",
    "\n",
    "    print(\"\\n- Mean Squared Error:\", mean_squared_error(y_test, yhat))\n",
    "    print(\"- Root Mean Squared Error:\", root_mean_squared_error(y_test, yhat))"
   ]
  },
  {
   "cell_type": "markdown",
   "metadata": {
    "id": "SzLNm1k1SyNm",
    "jp-MarkdownHeadingCollapsed": true
   },
   "source": [
    "## **Line Plot**"
   ]
  },
  {
   "cell_type": "code",
   "execution_count": 19,
   "metadata": {
    "id": "x95UoDwPEylA"
   },
   "outputs": [],
   "source": [
    "def PlotLine(y, title, yunit, x_size, y_size):\n",
    "  plt.figure().patch.set_facecolor(\"0.85\")\n",
    "  plt.axes().set(facecolor = \"0.85\")\n",
    "\n",
    "  plt.title(title)\n",
    "  plt.plot(y)\n",
    "\n",
    "  plt.grid(False)\n",
    "  plt.gca().spines['bottom'].set_visible(True)\n",
    "  plt.gca().spines['left'].set_visible(True)\n",
    "  plt.gca().spines['top'].set_visible(False)\n",
    "  plt.gca().spines['right'].set_visible(False)\n",
    "  plt.gca().spines['bottom'].set_color(\"black\")\n",
    "  plt.gca().spines['left'].set_color(\"black\")\n",
    "\n",
    "  plt.gca().set_xlabel(\"\", fontsize = 0)\n",
    "  #plt.gca().xaxis.set_label_coords(1.05, -0.025)\n",
    "  plt.gca().set_ylabel(yunit, fontsize = 10)\n",
    "  plt.gca().yaxis.set_label_coords(-0.16, .98)\n",
    "\n",
    "  plt.gca().set_yticklabels(['{:,.0f}'.format(x) for x in plt.gca().get_yticks()])\n",
    "\n",
    "  plt.gcf().set_size_inches(x_size, y_size)\n",
    "\n",
    "  plt.show()\n",
    "  plt.close()"
   ]
  },
  {
   "cell_type": "markdown",
   "metadata": {
    "id": "L8Ptq93uS1EO",
    "jp-MarkdownHeadingCollapsed": true
   },
   "source": [
    "## **K-Fold Target Encoding**"
   ]
  },
  {
   "cell_type": "code",
   "execution_count": 21,
   "metadata": {
    "id": "Oge7X76CcB6Y"
   },
   "outputs": [],
   "source": [
    "def KFTE(df, df_test, categ_f, target):\n",
    "  kf = KFold(n_splits = 5, shuffle = True, random_state = 13)\n",
    "\n",
    "  nome = categ_f + \"_E\"\n",
    "\n",
    "  df[nome] = 0.0\n",
    "\n",
    "  for train_idx, val_idx in kf.split(df):\n",
    "      fold_train = df.iloc[train_idx]\n",
    "      fold_valid  = df.iloc[val_idx]\n",
    "\n",
    "      medias_feature = fold_train.groupby(categ_f)[target].mean()\n",
    "      media_global = fold_train[target].mean()\n",
    "\n",
    "      feature_encoded = fold_valid[categ_f].map(medias_feature).fillna(media_global)\n",
    "      df.loc[val_idx, nome] = feature_encoded\n",
    "\n",
    "  mapping = df.groupby(categ_f)[target].mean().to_dict()\n",
    "  global_mean = df[target].mean()\n",
    "\n",
    "  df_test[categ_f] = df_test[categ_f].map(mapping).fillna(global_mean)"
   ]
  },
  {
   "cell_type": "markdown",
   "metadata": {
    "id": "veMq9HAJS-7O"
   },
   "source": [
    "# **DATASET LOADING**"
   ]
  },
  {
   "cell_type": "code",
   "execution_count": 23,
   "metadata": {},
   "outputs": [],
   "source": [
    "yhat_train_lgbm = pd.read_csv('../data/processed/3.Modeling_lgbm_train.csv')\n",
    "yhat_train_xgbr = pd.read_csv('../data/processed/3.Modeling_xgbr_train.csv')\n",
    "yhat_train_cbr = pd.read_csv('../data/processed/3.Modeling_cbr_train.csv')\n",
    "yhat_train_gbr = pd.read_csv('../data/processed/3.Modeling_gbr_train.csv')\n",
    "\n",
    "yhat_lgbm_op = pd.read_csv('../data/processed/3.Modeling_lgbm_yhat.csv')\n",
    "yhat_xgbr_op = pd.read_csv('../data/processed/3.Modeling_xgbr_yhat.csv')\n",
    "yhat_cbr_op = pd.read_csv('../data/processed/3.Modeling_cbr_yhat.csv')\n",
    "yhat_gbr_op = pd.read_csv('../data/processed/3.Modeling_gbr_yhat.csv')\n",
    "\n",
    "y_train = pd.read_csv('../data/processed/3.Modeling_y_train.csv')\n",
    "y_test = pd.read_csv('../data/processed/3.Modeling_y_test.csv')\n",
    "\n",
    "submission = pd.read_csv('../data/processed/2.2.EDA_submission.csv')\n",
    "yhat_test_lgbm = pd.read_csv('../data/processed/3.Modeling_xgbr_test.csv')\n",
    "yhat_test_xgbr = pd.read_csv('../data/processed/3.Modeling_xgbr_test.csv')\n",
    "yhat_test_cbr = pd.read_csv('../data/processed/3.Modeling_xgbr_test.csv')\n",
    "yhat_test_gbr = pd.read_csv('../data/processed/3.Modeling_xgbr_test.csv')\n",
    "\n",
    "i = pd.read_csv('../data/processed/3.Modeling_comparison.csv')"
   ]
  },
  {
   "cell_type": "markdown",
   "metadata": {
    "id": "cEYmy5wBYeMJ"
   },
   "source": [
    "## **STACKING MODEL**"
   ]
  },
  {
   "cell_type": "code",
   "execution_count": 25,
   "metadata": {},
   "outputs": [
    {
     "data": {
      "text/html": [
       "<div>\n",
       "<style scoped>\n",
       "    .dataframe tbody tr th:only-of-type {\n",
       "        vertical-align: middle;\n",
       "    }\n",
       "\n",
       "    .dataframe tbody tr th {\n",
       "        vertical-align: top;\n",
       "    }\n",
       "\n",
       "    .dataframe thead th {\n",
       "        text-align: right;\n",
       "    }\n",
       "</style>\n",
       "<table border=\"1\" class=\"dataframe\">\n",
       "  <thead>\n",
       "    <tr style=\"text-align: right;\">\n",
       "      <th></th>\n",
       "      <th>RSME</th>\n",
       "      <th>RSME Tuned</th>\n",
       "    </tr>\n",
       "  </thead>\n",
       "  <tbody>\n",
       "    <tr>\n",
       "      <th>0</th>\n",
       "      <td>0.117613</td>\n",
       "      <td>0.113286</td>\n",
       "    </tr>\n",
       "    <tr>\n",
       "      <th>1</th>\n",
       "      <td>0.126398</td>\n",
       "      <td>0.115464</td>\n",
       "    </tr>\n",
       "    <tr>\n",
       "      <th>2</th>\n",
       "      <td>0.110593</td>\n",
       "      <td>0.109030</td>\n",
       "    </tr>\n",
       "    <tr>\n",
       "      <th>3</th>\n",
       "      <td>0.118464</td>\n",
       "      <td>0.114717</td>\n",
       "    </tr>\n",
       "  </tbody>\n",
       "</table>\n",
       "</div>"
      ],
      "text/plain": [
       "       RSME  RSME Tuned\n",
       "0  0.117613    0.113286\n",
       "1  0.126398    0.115464\n",
       "2  0.110593    0.109030\n",
       "3  0.118464    0.114717"
      ]
     },
     "execution_count": 25,
     "metadata": {},
     "output_type": "execute_result"
    }
   ],
   "source": [
    "i"
   ]
  },
  {
   "cell_type": "code",
   "execution_count": 26,
   "metadata": {},
   "outputs": [],
   "source": [
    "stacked_train = np.column_stack([\n",
    "    yhat_train_lgbm,\n",
    "    yhat_train_xgbr,\n",
    "    yhat_train_cbr,\n",
    "    yhat_train_gbr\n",
    "])\n",
    "\n",
    "stacked_test = np.column_stack([\n",
    "    yhat_lgbm_op,\n",
    "    yhat_xgbr_op,\n",
    "    yhat_cbr_op,\n",
    "    yhat_gbr_op\n",
    "])"
   ]
  },
  {
   "cell_type": "markdown",
   "metadata": {},
   "source": [
    "### **XGBOOST STACKING MODEL**"
   ]
  },
  {
   "cell_type": "markdown",
   "metadata": {},
   "source": [
    "#### **MODEL DEVELOPMENT**"
   ]
  },
  {
   "cell_type": "code",
   "execution_count": 29,
   "metadata": {},
   "outputs": [
    {
     "data": {
      "image/png": "[encoded data removed]",
      "text/plain": [
       "<Figure size 700x500 with 1 Axes>"
      ]
     },
     "metadata": {},
     "output_type": "display_data"
    },
    {
     "name": "stdout",
     "output_type": "stream",
     "text": [
      "\n",
      "- Mean Squared Error: 0.012070554535098177\n",
      "- Root Mean Squared Error: 0.10986607545142485\n"
     ]
    }
   ],
   "source": [
    "xgb_st = xgb.XGBRegressor(\n",
    "    n_estimators=500, \n",
    "    learning_rate=0.05, \n",
    "    max_depth=5, \n",
    "    subsample=0.8, \n",
    "    colsample_bytree=0.8,\n",
    "    random_state=42\n",
    ")\n",
    "\n",
    "xgb_st.fit(stacked_train, y_train)\n",
    "yhat_stacking = xgb_st.predict(stacked_test)\n",
    "\n",
    "PlotFitted(y_test, yhat_stacking, \"Actual vs Predicted Values for Sale Price\")"
   ]
  },
  {
   "cell_type": "markdown",
   "metadata": {},
   "source": [
    "#### **MODEL REFINEMENT**"
   ]
  },
  {
   "cell_type": "code",
   "execution_count": null,
   "metadata": {
    "scrolled": true
   },
   "outputs": [],
   "source": [
    "def objective(trial):\n",
    "    params = {\n",
    "        'max_depth': trial.suggest_int('max_depth', 3, 10),\n",
    "        'learning_rate': trial.suggest_float('learning_rate', 0.01, 0.3),\n",
    "        'n_estimators': trial.suggest_int('n_estimators', 100, 3000),\n",
    "        'min_child_weight': trial.suggest_int('min_child_weight', 1, 10),\n",
    "        'gamma': trial.suggest_float('gamma', 0.0, 0.5),\n",
    "        'subsample': trial.suggest_float('subsample', 0.5, 1.0),\n",
    "        'colsample_bytree': trial.suggest_float('colsample_bytree', 0.5, 1.0),\n",
    "        'reg_alpha': trial.suggest_float('reg_alpha', 0, 10),\n",
    "        'reg_lambda': trial.suggest_float('reg_lambda', 0, 10),\n",
    "    }\n",
    "\n",
    "    model = xgb.XGBRegressor(**params, random_state=13)\n",
    "    model.fit(stacked_train, y_train)\n",
    "    y_pred = model.predict(stacked_test)\n",
    "    return root_mean_squared_error(y_test, y_pred)\n",
    "\n",
    "study = optuna.create_study(direction='minimize')\n",
    "study.optimize(objective, n_trials=500)\n",
    "\n",
    "print('\\n\\nBest trial:', study.best_trial.params)"
   ]
  },
  {
   "cell_type": "code",
   "execution_count": 31,
   "metadata": {},
   "outputs": [
    {
     "data": {
      "image/png": "[encoded data removed]",
      "text/plain": [
       "<Figure size 700x500 with 1 Axes>"
      ]
     },
     "metadata": {},
     "output_type": "display_data"
    },
    {
     "name": "stdout",
     "output_type": "stream",
     "text": [
      "\n",
      "- Mean Squared Error: 0.01177715713720447\n",
      "- Root Mean Squared Error: 0.10852261117944255\n"
     ]
    }
   ],
   "source": [
    "xgb_st_op = xgb.XGBRegressor(\n",
    "    max_depth = 3,\n",
    "    learning_rate = 0.07626170326360641,\n",
    "    n_estimators = 1846,\n",
    "    min_child_weight = 10,\n",
    "    gamma = 0.010351140560914473,\n",
    "    subsample = 0.5022396861003908,\n",
    "    colsample_bytree = 0.9229406483842264,\n",
    "    reg_alpha = 0.0122222411454177,\n",
    "    reg_lambda = 7.344957865888092\n",
    ")\n",
    "\n",
    "xgb_st_op.fit(stacked_train, y_train)\n",
    "yhat_stacking_op = xgb_st_op.predict(stacked_test)\n",
    "\n",
    "PlotFitted(y_test, yhat_stacking_op, \"Actual vs Predicted Values for Sale Price\")"
   ]
  },
  {
   "cell_type": "markdown",
   "metadata": {},
   "source": [
    "# **PREDICTING TEST DATASET**"
   ]
  },
  {
   "cell_type": "code",
   "execution_count": 51,
   "metadata": {},
   "outputs": [],
   "source": [
    "stacked_test_final = np.column_stack([\n",
    "    yhat_test_lgbm,\n",
    "    yhat_test_xgbr,\n",
    "    yhat_test_cbr,\n",
    "    yhat_test_gbr\n",
    "])"
   ]
  },
  {
   "cell_type": "code",
   "execution_count": 55,
   "metadata": {},
   "outputs": [],
   "source": [
    "submission['SalePrice'] = np.exp(xgb_st_op.predict(stacked_test_final).flatten())\n",
    "submission = submission.set_index(\"Id\")\n",
    "submission.to_csv('../data/processed/submission.csv')"
   ]
  },
  {
   "cell_type": "markdown",
   "metadata": {},
   "source": [
    "# **AUTHOR**\n",
    "\n",
    "## Fábio Galdino"
   ]
  }
 ],
 "metadata": {
  "colab": {
   "authorship_tag": "ABX9TyN+KRVTlMiOQr9jgfXcWvtV",
   "collapsed_sections": [
    "7eXX_FTFfGgQ",
    "veMq9HAJS-7O",
    "Xqzo4IuFj1b0",
    "f1ZLeKQYJ1kS",
    "MS-56ZFvSWR2",
    "HP-fX3KuVd4f",
    "DhRKdf8YaxQn",
    "jsZd8hE3bFqF",
    "EN_M3k3AaADC",
    "MCVeVwrCgec5",
    "bU3kBx8DhGbp",
    "EhdRYzwKhROx",
    "PHS9KWqhhg3F",
    "Yv4v2O1GjpVE",
    "JQB14_bM7N0M",
    "h2hRNqeWiW1R",
    "XYeT556LkNU0",
    "usARYniGl0xv",
    "kkwSM7mZmUMh",
    "6wrmNU-im5mf",
    "qyCuqE_znpCq",
    "NjCGXi8EoDmS",
    "eaK3TRuDofxd",
    "9O4rkeoYozJm",
    "OFlTcUSKpdZN",
    "BnkgVNcrqH7V",
    "mIlXqzcsq1J6",
    "X1yr1TC9rmlj",
    "XnNEULmnr7Vx",
    "o_XBC5t2tR_F",
    "neUT-ZQAuc1H",
    "TDLjQKi6u3UE",
    "W2CybRXzIPUE",
    "G9FQuzlXIpsA",
    "KiILp1DfJckv",
    "E8aR9xCyJzuZ",
    "GGICUX5DKNfr",
    "PNvvnbEpKnr-",
    "zfY2QMz0K_09",
    "f_pcOZ11EgVe",
    "_H1QKf7MExzo",
    "BbYe3mj3FC4B",
    "T_pO0fjVGi4e",
    "_jDp48VTHQXJ",
    "k2iZbgzrJiIf",
    "VgZOVQQXJ-ff",
    "JQeCqBnCKOyg",
    "QZww6eWvKWs_",
    "E2_gYIajMRAU",
    "W-0IXk9sMhDU",
    "jk4IExqVM5U7",
    "4Zsn0eQQNRhY",
    "3U9iii0iOmuf",
    "HMkzbcMDTsQD",
    "WmwMASx9Vsxi",
    "Cbt6zScDW8Zs",
    "v0_QO4W6_koN",
    "_PDSZoHGAd9P",
    "ua6EWru5BPx1",
    "4Nvwif6QB7A0",
    "K3lwDXxkCGgT",
    "W5-m6SSuDIUD",
    "qm5Y7JcQD8Vy",
    "lpOVdlG9ESAy",
    "9kK6WiuBEv4U",
    "jJi9qXXOFBTn",
    "zPIFl8uDFgNh",
    "d0hx2t0yF7pZ",
    "dLhyE8SaGUuz",
    "mqcus2k9GlNT",
    "sBPvY5oKGtuK",
    "X2a_jzJjG25a",
    "qdH25xknHNGl",
    "XRWs4sLVHZws",
    "uePWlsr2Hnpx",
    "mPp6bDunK0zq",
    "9egdUn3sLUlo",
    "yrqL5RbYLz38",
    "TyZZ98a0ULCw",
    "PUv72JB3Qldt",
    "Xq3QM9UgaZvI",
    "afoxAiwm9q9N",
    "cEYmy5wBYeMJ"
   ],
   "mount_file_id": "1JxG1qHBwk_ZyWzx-asZkrw4EyHEFroC3",
   "provenance": []
  },
  "kernelspec": {
   "display_name": "Python [conda env:base] *",
   "language": "python",
   "name": "conda-base-py"
  },
  "language_info": {
   "codemirror_mode": {
    "name": "ipython",
    "version": 3
   },
   "file_extension": ".py",
   "mimetype": "text/x-python",
   "name": "python",
   "nbconvert_exporter": "python",
   "pygments_lexer": "ipython3",
   "version": "3.12.8"
  }
 },
 "nbformat": 4,
 "nbformat_minor": 4
}
