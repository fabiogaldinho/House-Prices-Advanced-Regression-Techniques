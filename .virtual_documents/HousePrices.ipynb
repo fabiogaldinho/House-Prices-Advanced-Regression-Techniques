import pandas as pd
import numpy as np
import matplotlib.pyplot as plt
import seaborn as sns
from scipy import stats

from sklearn.preprocessing import LabelEncoder, MaxAbsScaler, RobustScaler
from sklearn.model_selection import train_test_split, GridSearchCV, RandomizedSearchCV, cross_val_score, KFold
from sklearn.metrics import mean_squared_error, r2_score, root_mean_squared_error
from sklearn.ensemble import GradientBoostingRegressor

from statsmodels.stats.outliers_influence import variance_inflation_factor

!pip install xgboost
import xgboost as xgb

!pip install lightgbm
from lightgbm import LGBMRegressor

!pip install catboost
from catboost import CatBoostRegressor

!pip install optuna
import optuna

pd.set_option('display.max_columns', None)
pd.set_option('display.max_rows', 400)

plt.style.use('seaborn-v0_8-deep')

%matplotlib inline


def warn(*args, **kwargs):
    pass
import warnings
warnings.warn = warn








def PlotScatter(x, y, title, xunit, yunit, format_x, x_size):
  plt.figure().patch.set_facecolor("0.85")
  plt.axes().set(facecolor = "0.85")

  plt.title(title)
  plt.scatter(x, y, alpha=0.7)

  plt.grid(False)
  plt.gca().spines['bottom'].set_visible(True)
  plt.gca().spines['left'].set_visible(True)
  plt.gca().spines['top'].set_visible(False)
  plt.gca().spines['right'].set_visible(False)
  plt.gca().spines['bottom'].set_color("black")
  plt.gca().spines['left'].set_color("black")

  plt.gca().set_xlabel(xunit, fontsize = 10)
  plt.gca().xaxis.set_label_coords(1.05, -0.025)
  plt.gca().set_ylabel(yunit, fontsize = 10)
  plt.gca().yaxis.set_label_coords(-0.16, .98)

  plt.gca().set_yticklabels(['{:,.0f}'.format(x) for x in plt.gca().get_yticks()])

  if (format_x == 1):
    plt.gca().set_xticklabels(['{:,.0f}'.format(x) for x in plt.gca().get_xticks()])

  if (x_size == 0):
    plt.gcf().set_size_inches(6, 5)
  else:
    plt.gcf().set_size_inches(x_size, 5)

  plt.show()
  plt.close()





def PlotBoxPlot(df_x, df_y, title, yunit):
  plt.figure(figsize=(6, 5))
  plt.figure().patch.set_facecolor("0.85")
  plt.axes().set(facecolor = "0.85")

  plt.title(title)
  sns.boxplot(x = df_x, y = df_y, palette = "mako")

  plt.grid(False)
  plt.gca().spines['bottom'].set_visible(True)
  plt.gca().spines['left'].set_visible(True)
  plt.gca().spines['top'].set_visible(False)
  plt.gca().spines['right'].set_visible(False)
  plt.gca().spines['bottom'].set_color("black")
  plt.gca().spines['left'].set_color("black")

  plt.gca().set_ylabel(yunit, fontsize = 10)
  plt.gca().yaxis.set_label_coords(-0.16, .98)

  plt.gca().set_xlabel("", fontsize = 1)

  plt.gca().set_yticklabels(['{:,.0f}'.format(x) for x in plt.gca().get_yticks()])

  plt.show()
  plt.close()


def PlotBoxPlotV2(df_x, df_y, title, yunit, size_x, size_y):
  plt.figure().patch.set_facecolor("0.85")
  plt.axes().set(facecolor = "0.85")

  plt.title(title)
  sns.boxplot(x = df_x, y = df_y, palette = "mako")

  plt.grid(False)
  plt.gca().spines['bottom'].set_visible(True)
  plt.gca().spines['left'].set_visible(True)
  plt.gca().spines['top'].set_visible(False)
  plt.gca().spines['right'].set_visible(False)
  plt.gca().spines['bottom'].set_color("black")
  plt.gca().spines['left'].set_color("black")

  plt.gca().set_ylabel(yunit, fontsize = 10)
  plt.gca().yaxis.set_label_coords(-0.16, .98)

  plt.gca().set_xlabel("", fontsize = 1)

  plt.gca().set_yticklabels(['{:,.0f}'.format(x) for x in plt.gca().get_yticks()])

  plt.gcf().set_size_inches(size_x, size_y)

  plt.show()
  plt.close()





def PlotRegPlot(df_x, df_y, title, xunit, yunit):
  plt.figure(figsize=(6, 5))
  plt.figure().patch.set_facecolor("0.85")
  plt.axes().set(facecolor = "0.85")

  plt.title(title)
  sns.regplot(x = df_x, y = df_y, line_kws={"color": "#31273F"})

  plt.grid(False)
  plt.gca().spines['bottom'].set_visible(True)
  plt.gca().spines['left'].set_visible(True)
  plt.gca().spines['top'].set_visible(False)
  plt.gca().spines['right'].set_visible(False)
  plt.gca().spines['bottom'].set_color("black")
  plt.gca().spines['left'].set_color("black")

  plt.gca().set_ylabel(yunit, fontsize = 10)
  plt.gca().yaxis.set_label_coords(-0.16, .98)

  plt.gca().set_xlabel(xunit, fontsize = 10)
  plt.gca().xaxis.set_label_coords(1.05, -0.025)

  plt.gca().set_yticklabels(['{:,.0f}'.format(x) for x in plt.gca().get_yticks()])
  plt.gca().set_xticklabels(['{:,.0f}'.format(x) for x in plt.gca().get_xticks()])

  plt.show()
  plt.close()





def HistPlot(x, title, xunit, x_size):
  plt.figure().patch.set_facecolor("0.85")
  plt.axes().set(facecolor = "0.85")

  plt.title(title)
  sns.histplot(x = x)

  plt.grid(False)
  plt.gca().spines['bottom'].set_visible(True)
  plt.gca().spines['left'].set_visible(True)
  plt.gca().spines['top'].set_visible(False)
  plt.gca().spines['right'].set_visible(False)
  plt.gca().spines['bottom'].set_color("black")
  plt.gca().spines['left'].set_color("black")

  plt.gca().set_xlabel(xunit, fontsize = 10)
  plt.gca().xaxis.set_label_coords(0.98, -0.08)

  plt.ylabel("Count")

  if (x_size == 0):
    plt.gcf().set_size_inches(6, 5)
  else:
    plt.gcf().set_size_inches(x_size, 5)

  plt.show()
  plt.close()





def PlotFitted(y_test, yhat, title):
    plt.figure().patch.set_facecolor("0.85")
    plt.axes().set(facecolor = "0.85")
    
    plt.title(title)

    y_test1 = np.exp(y_test)
    yhat1 = np.exp(yhat)

    sns.scatterplot(x=y_test1.to_numpy().flatten(), y=yhat1, alpha=0.6)
    plt.plot([y_test1.min(), y_test1.max()], [y_test1.min(), y_test1.max()], 'r--')

    plt.grid(False)
    plt.gca().spines['bottom'].set_visible(True)
    plt.gca().spines['left'].set_visible(True)
    plt.gca().spines['top'].set_visible(False)
    plt.gca().spines['right'].set_visible(False)
    plt.gca().spines['bottom'].set_color("black")
    plt.gca().spines['left'].set_color("black")
    
    plt.xlabel("Actual Values")
    plt.ylabel("Predicted Values")

    plt.gcf().set_size_inches(7, 5)

    plt.ylim(0,)
    plt.xlim(0,)
    
    plt.show()
    plt.close()
    
    
    print("\n- Mean Squared Error:", mean_squared_error(y_test, yhat))
    print("- Root Mean Squared Error:", root_mean_squared_error(y_test, yhat))


def PlotFittedV(yhat, y_test, model, x_data, y_data, title, xlabel):
  plt.figure().patch.set_facecolor("0.85")
  plt.axes().set(facecolor = "0.85")

  plt.title(title)

  ax2 = sns.distplot(y_test, hist=False, color="r", label = "Actual Value")
  sns.distplot(yhat, hist=False, color="b", label="Predicted Value", ax = ax2)

  plt.grid(False)
  plt.gca().spines['bottom'].set_visible(True)
  plt.gca().spines['left'].set_visible(True)
  plt.gca().spines['top'].set_visible(False)
  plt.gca().spines['right'].set_visible(False)
  plt.gca().spines['bottom'].set_color("black")
  plt.gca().spines['left'].set_color("black")

  plt.ylabel("Density")
  plt.xlabel(xlabel)
  plt.legend(['Actual Value', 'Predicted Value'], framealpha=0)

  plt.gcf().set_size_inches(7, 5)

  plt.show()
  plt.close()

  print("\n- Mean Squared Error:", mean_squared_error(y_test, yhat))
  print("- Root Mean Squared Error:", root_mean_squared_error(y_test, yhat))
  print("- Cross-Validation Score:", cross_val_score(model, x_data, y_data, cv=5).mean())


def PlotFittedV2(yhat, y_test, title, xlabel):
  plt.figure().patch.set_facecolor("0.85")
  plt.axes().set(facecolor = "0.85")

  plt.title(title)

  ax2 = sns.distplot(np.exp(y_test), hist=False, color="r", label = "Actual Value")
  sns.distplot(np.exp(yhat), hist=False, color="b", label="Predicted Value", ax = ax2)

  plt.grid(False)
  plt.gca().spines['bottom'].set_visible(True)
  plt.gca().spines['left'].set_visible(True)
  plt.gca().spines['top'].set_visible(False)
  plt.gca().spines['right'].set_visible(False)
  plt.gca().spines['bottom'].set_color("black")
  plt.gca().spines['left'].set_color("black")

  plt.ylabel("Density")
  plt.xlabel(xlabel)
  plt.legend(['Actual Value', 'Predicted Value'], framealpha=0)

  plt.gcf().set_size_inches(7, 5)

  plt.show()
  plt.close()

  print("\n- Mean Squared Error:", mean_squared_error(y_test, yhat))
  print("- Root Mean Squared Error:", root_mean_squared_error(y_test, yhat))





def PlotLine(y, title, yunit, x_size, y_size):
  plt.figure().patch.set_facecolor("0.85")
  plt.axes().set(facecolor = "0.85")

  plt.title(title)
  plt.plot(y)

  plt.grid(False)
  plt.gca().spines['bottom'].set_visible(True)
  plt.gca().spines['left'].set_visible(True)
  plt.gca().spines['top'].set_visible(False)
  plt.gca().spines['right'].set_visible(False)
  plt.gca().spines['bottom'].set_color("black")
  plt.gca().spines['left'].set_color("black")

  plt.gca().set_xlabel("", fontsize = 0)
  #plt.gca().xaxis.set_label_coords(1.05, -0.025)
  plt.gca().set_ylabel(yunit, fontsize = 10)
  plt.gca().yaxis.set_label_coords(-0.16, .98)

  plt.gca().set_yticklabels(['{:,.0f}'.format(x) for x in plt.gca().get_yticks()])

  plt.gcf().set_size_inches(x_size, y_size)

  plt.show()
  plt.close()





def KFTE(df, df_test, categ_f, target):
  kf = KFold(n_splits = 5, shuffle = True, random_state = 13)

  nome = categ_f + "_E"

  df[nome] = 0.0

  for train_idx, val_idx in kf.split(df):
      fold_train = df.iloc[train_idx]
      fold_valid  = df.iloc[val_idx]

      medias_feature = fold_train.groupby(categ_f)[target].mean()
      media_global = fold_train[target].mean()

      feature_encoded = fold_valid[categ_f].map(medias_feature).fillna(media_global)
      df.loc[val_idx, nome] = feature_encoded

  mapping = df.groupby(categ_f)[target].mean().to_dict()
  global_mean = df[target].mean()

  df_test[categ_f] = df_test[categ_f].map(mapping).fillna(global_mean)





HousePricesDF = pd.read_csv("train.csv")
HousePricesDF_test = pd.read_csv("test.csv")
HousePricesDF.head()


HousePricesDF.shape


HousePricesDF_test.shape








HousePricesDF.isna().sum()[HousePricesDF.isna().sum() > 0]





HousePricesDF[['LotFrontage']].describe()


HousePricesDF[['LotFrontage']].value_counts().sort_index()





i = [HousePricesDF.corr(numeric_only = True)['SalePrice'][['LotFrontage']].iloc[0]]

# Replace it with mean
df = HousePricesDF[['LotFrontage', 'SalePrice']].copy()
df['LotFrontage'] = df['LotFrontage'].fillna(HousePricesDF['LotFrontage'][HousePricesDF['LotFrontage'] < 313].mean())
i.append(df.corr()['SalePrice'].iloc[0])

# Replace it with median
df = HousePricesDF[['LotFrontage', 'SalePrice']].copy()
df['LotFrontage'] = df['LotFrontage'].fillna(HousePricesDF['LotFrontage'][HousePricesDF['LotFrontage'] < 313].median())
i.append(df.corr()['SalePrice'].iloc[0])

# Replace it with mode
df = HousePricesDF[['LotFrontage', 'SalePrice']].copy()
df['LotFrontage'] = df['LotFrontage'].fillna(HousePricesDF['LotFrontage'][HousePricesDF['LotFrontage'] < 313].mode()[0])
i.append(df.corr()['SalePrice'].iloc[0])

i = pd.DataFrame(data = i, index = ["Original", "Mean", "Median", "Mode"], columns = ["SalePrice"])
i





HousePricesDF['LotFrontage'] = HousePricesDF['LotFrontage'].fillna(HousePricesDF['LotFrontage'][HousePricesDF['LotFrontage'] < 313].mean())


HousePricesDF_test['LotFrontage'] = HousePricesDF_test['LotFrontage'].fillna(HousePricesDF_test['LotFrontage'][HousePricesDF_test['LotFrontage'] < 313].mean())





HousePricesDF[['Alley']].describe()


HousePricesDF[['Alley']].value_counts()





HousePricesDF['Alley'] = HousePricesDF['Alley'].replace({"Grvl": 1, "Pave": 2})
HousePricesDF['Alley'] = HousePricesDF['Alley'].fillna(0)
HousePricesDF.corr(numeric_only = True)['SalePrice'][['Alley']]





HousePricesDF = HousePricesDF.drop(columns = ['Alley'])


HousePricesDF_test = HousePricesDF_test.drop(columns = ['Alley'])





HousePricesDF[['MasVnrType']].describe()


HousePricesDF[['MasVnrType']].value_counts()


HousePricesDF[['MasVnrArea']].describe()


HousePricesDF[['MasVnrArea']].value_counts().sort_index()





HousePricesDF.loc[HousePricesDF.MasVnrArea == 0, ['MasVnrType']] = "None"


HousePricesDF_test.loc[HousePricesDF_test.MasVnrArea == 0, ['MasVnrType']] = "None"





HousePricesDF[HousePricesDF['MasVnrArea'].isnull() == True][['MasVnrType', 'MasVnrArea']]





HousePricesDF.loc[HousePricesDF.MasVnrArea.isnull() == True, ['MasVnrType', 'MasVnrArea']] = "None", 0


HousePricesDF_test.loc[HousePricesDF_test.MasVnrArea.isnull() == True, ['MasVnrType', 'MasVnrArea']] = "None", 0





HousePricesDF[HousePricesDF['MasVnrType'].isnull() == True][['MasVnrType', 'MasVnrArea']]





HousePricesDF.loc[HousePricesDF.MasVnrArea == 1, ['MasVnrType', 'MasVnrArea']] = "None", 0
HousePricesDF['MasVnrType'] = HousePricesDF['MasVnrType'].fillna(HousePricesDF.loc[HousePricesDF.MasVnrArea >= HousePricesDF['MasVnrArea']\
                                                                                   .quantile(0.75)]['MasVnrType'].describe().iloc[2])


HousePricesDF_test.loc[HousePricesDF_test.MasVnrArea == 1, ['MasVnrType', 'MasVnrArea']] = "None", 0
HousePricesDF_test['MasVnrType'] = HousePricesDF_test['MasVnrType'].fillna(HousePricesDF_test.loc[HousePricesDF_test.MasVnrArea >= HousePricesDF_test['MasVnrArea']\
                                                                                   .quantile(0.75)]['MasVnrType'].describe().iloc[2])








HousePricesDF.loc[HousePricesDF.BsmtQual.isnull() == True][['BsmtQual', 'BsmtCond', 'BsmtExposure', 'BsmtFinType1', 'BsmtFinType2',
                                                            'TotalBsmtSF']]





HousePricesDF.loc[HousePricesDF.BsmtQual.isnull() == True, ['BsmtQual', 'BsmtCond', 'BsmtExposure', 'BsmtFinType1', 'BsmtFinType2']] = "None"


HousePricesDF_test.loc[HousePricesDF_test.BsmtQual.isnull() == True, ['BsmtQual', 'BsmtCond', 'BsmtExposure', 'BsmtFinType1', 'BsmtFinType2']] = "None"





HousePricesDF.loc[HousePricesDF.BsmtExposure.isnull() == True][['BsmtQual', 'BsmtCond', 'BsmtExposure', 'BsmtFinType1', 'BsmtFinType2',
                                                            'TotalBsmtSF']]


i = HousePricesDF.loc[(HousePricesDF.BsmtQual == "Gd") & (HousePricesDF.BsmtCond == "TA") & (HousePricesDF.BsmtFinType1 == "Unf")][['BsmtQual', 'BsmtCond', 'BsmtExposure', 'BsmtFinType1', 'BsmtFinType2',
                                                            'TotalBsmtSF']][['BsmtExposure']].value_counts().index.values[0][0]

HousePricesDF['BsmtExposure'] = HousePricesDF['BsmtExposure'].fillna(i)


i = HousePricesDF_test.loc[(HousePricesDF_test.BsmtQual == "Gd") & (HousePricesDF_test.BsmtCond == "TA") & (HousePricesDF_test.BsmtFinType1 == "Unf")]\
                            [['BsmtQual', 'BsmtCond', 'BsmtExposure', 'BsmtFinType1', 'BsmtFinType2','TotalBsmtSF']][['BsmtExposure']].value_counts().index.values[0][0]

HousePricesDF_test['BsmtExposure'] = HousePricesDF_test['BsmtExposure'].fillna(i)





HousePricesDF.loc[HousePricesDF.BsmtFinType2.isnull() == True][['BsmtQual', 'BsmtCond', 'BsmtExposure', 'BsmtFinType1', 'BsmtFinType2',
                                                                'BsmtFinSF2', 'TotalBsmtSF']]


i = HousePricesDF.loc[(HousePricesDF.BsmtQual == "Gd") & (HousePricesDF.BsmtCond == "TA") & (HousePricesDF.BsmtExposure == "No")
                    & (HousePricesDF.BsmtFinType1 == "GLQ")][['BsmtQual', 'BsmtCond', 'BsmtExposure', 'BsmtFinType1', 'BsmtFinType2',
                                                              'TotalBsmtSF']][['BsmtFinType2']].value_counts().index.values[0][0]

HousePricesDF['BsmtFinType2'] = HousePricesDF['BsmtFinType2'].fillna(i)


i = HousePricesDF_test.loc[(HousePricesDF_test.BsmtQual == "Gd") & (HousePricesDF_test.BsmtCond == "TA") & (HousePricesDF_test.BsmtExposure == "No")
                    & (HousePricesDF_test.BsmtFinType1 == "GLQ")][['BsmtQual', 'BsmtCond', 'BsmtExposure', 'BsmtFinType1', 'BsmtFinType2',
                                                              'TotalBsmtSF']][['BsmtFinType2']].value_counts().index.values[0][0]

HousePricesDF_test['BsmtFinType2'] = HousePricesDF_test['BsmtFinType2'].fillna(i)





HousePricesDF[['Electrical']].value_counts()


HousePricesDF['Electrical'] = HousePricesDF['Electrical'].fillna("SBrkr")


HousePricesDF_test['Electrical'] = HousePricesDF_test['Electrical'].fillna("SBrkr")





HousePricesDF.loc[HousePricesDF.FireplaceQu.isnull() == True][['Fireplaces']].value_counts()


HousePricesDF['FireplaceQu'] = HousePricesDF['FireplaceQu'].fillna("None")


HousePricesDF_test['FireplaceQu'] = HousePricesDF_test['FireplaceQu'].fillna("None")





HousePricesDF.loc[HousePricesDF.GarageType.isnull() == True][['GarageType', 'GarageYrBlt', 'GarageFinish', 'GarageQual', 'GarageCond',
                                                              'GarageCars']]


HousePricesDF.loc[HousePricesDF.GarageType.isnull() == True, ['GarageType', 'GarageFinish', 'GarageQual', 'GarageCond']] = "None"


HousePricesDF['GarageYrBlt'] = HousePricesDF['GarageYrBlt'].fillna(0)


HousePricesDF_test.loc[HousePricesDF_test.GarageType.isnull() == True, ['GarageType', 'GarageFinish', 'GarageQual', 'GarageCond']] = "None"
HousePricesDF_test['GarageYrBlt'] = HousePricesDF_test['GarageYrBlt'].fillna(0)





HousePricesDF.loc[HousePricesDF.PoolQC.isnull() == True][['PoolArea']].value_counts()


HousePricesDF['PoolQC'] = HousePricesDF['PoolQC'].fillna("None")


HousePricesDF_test['PoolQC'] = HousePricesDF_test['PoolQC'].fillna("None")








HousePricesDF = HousePricesDF.drop(columns = ['Fence'])


HousePricesDF_test = HousePricesDF_test.drop(columns = ['Fence'])








HousePricesDF = HousePricesDF.drop(columns = ['MiscFeature', 'MiscVal'])


HousePricesDF_test = HousePricesDF_test.drop(columns = ['MiscFeature', 'MiscVal'])





HousePricesDF_test.isna().sum()[HousePricesDF_test.isna().sum() > 0]





HousePricesDF_test['MSZoning'].value_counts()


HousePricesDF_test['MSZoning'] = HousePricesDF_test['MSZoning'].fillna("RL")





HousePricesDF_test['Utilities'].value_counts()


HousePricesDF_test['Utilities'] = HousePricesDF_test['Utilities'].fillna("AllPub")





HousePricesDF_test['Exterior1st'].value_counts()


HousePricesDF_test['Exterior1st'] = HousePricesDF_test['Exterior1st'].fillna("VinylSd")





HousePricesDF_test['Exterior2nd'].value_counts()


HousePricesDF_test['Exterior2nd'] = HousePricesDF_test['Exterior2nd'].fillna("VinylSd")





HousePricesDF_test['BsmtCond'].value_counts()


HousePricesDF_test['BsmtCond'] = HousePricesDF_test['BsmtCond'].fillna("TA")





HousePricesDF_test.loc[HousePricesDF_test.BsmtFinSF1.isnull() == True][['BsmtFinSF1', 'BsmtFinType1']]


HousePricesDF_test.loc[(HousePricesDF_test.BsmtFinSF1.isnull() == True) & (HousePricesDF_test.BsmtFinType1 == "None"), ['BsmtFinSF1']] = 0





HousePricesDF_test.loc[HousePricesDF_test.BsmtFinSF2.isnull() == True][['BsmtFinSF2', 'BsmtFinType2']]


HousePricesDF_test.loc[(HousePricesDF_test.BsmtFinSF2.isnull() == True) & (HousePricesDF_test.BsmtFinType2 == "None"), ['BsmtFinSF2']] = 0





HousePricesDF_test.loc[HousePricesDF_test.BsmtUnfSF.isnull() == True][['BsmtFinSF1', 'BsmtFinSF2', 'BsmtUnfSF', 'TotalBsmtSF']]


HousePricesDF_test.loc[(HousePricesDF_test.BsmtUnfSF.isnull() == True) & (HousePricesDF_test.BsmtFinSF1 == 0) & (HousePricesDF_test.BsmtFinSF2 == 0),\
                              ['BsmtUnfSF', 'TotalBsmtSF']] = 0





HousePricesDF_test.loc[HousePricesDF_test.BsmtFullBath.isnull() == True][['BsmtFullBath', 'BsmtHalfBath', 'TotalBsmtSF']]


HousePricesDF_test.loc[(HousePricesDF_test.BsmtFullBath.isnull() == True) & (HousePricesDF_test.TotalBsmtSF == 0), ['BsmtFullBath', 'BsmtHalfBath']] = 0





HousePricesDF_test.loc[HousePricesDF_test.KitchenQual.isnull() == True][['KitchenQual', 'KitchenAbvGr']]


HousePricesDF_test['KitchenQual'].value_counts()


HousePricesDF_test['KitchenQual'] = HousePricesDF_test['KitchenQual'].fillna("TA")





HousePricesDF_test['Functional'].value_counts()


HousePricesDF_test['Functional'] = HousePricesDF_test['Functional'].fillna("Typ")





HousePricesDF_test.loc[HousePricesDF_test.GarageFinish.isnull() == True][['GarageFinish', 'GarageCars', 'GarageArea', 'GarageQual', 'GarageCond']]


HousePricesDF_test['GarageFinish'].value_counts()


HousePricesDF_test['GarageQual'].value_counts()


HousePricesDF_test['GarageCond'].value_counts()


HousePricesDF_test.loc[(HousePricesDF_test.GarageFinish.isnull() == True) & (HousePricesDF_test.GarageCars.isnull() == True), \
                          ['GarageFinish', 'GarageCars', 'GarageArea', 'GarageQual', 'GarageCond']] = "None", 0, 0, "None", "None"





HousePricesDF_test['SaleType'].value_counts()


HousePricesDF_test['SaleType'] = HousePricesDF_test['SaleType'].fillna("WD")





HousePricesDF = HousePricesDF.astype({'LotArea':'float',
                                      'BsmtFinSF1':'float',
                                      'BsmtFinSF2': 'float',
                                      'BsmtUnfSF': 'float',
                                      'TotalBsmtSF': 'float',
                                      '1stFlrSF': 'float',
                                      '2ndFlrSF': 'float',
                                      'LowQualFinSF': 'float',
                                      'GrLivArea': 'float',
                                      'GarageYrBlt': 'int',
                                      'GarageArea': 'float',
                                      'WoodDeckSF': 'float',
                                      'OpenPorchSF': 'float',
                                      'EnclosedPorch': 'float',
                                      '3SsnPorch': 'float',
                                      'ScreenPorch': 'float',
                                      'PoolArea': 'float',
                                      'SalePrice': 'float'})


HousePricesDF_test = HousePricesDF_test.astype({'LotArea':'float',
                                                'BsmtFinSF1':'float',
                                                'BsmtFinSF2': 'float',
                                                'BsmtUnfSF': 'float',
                                                'TotalBsmtSF': 'float',
                                                '1stFlrSF': 'float',
                                                '2ndFlrSF': 'float',
                                                'LowQualFinSF': 'float',
                                                'GrLivArea': 'float',
                                                'GarageYrBlt': 'int',
                                                'GarageArea': 'float',
                                                'WoodDeckSF': 'float',
                                                'OpenPorchSF': 'float',
                                                'EnclosedPorch': 'float',
                                                '3SsnPorch': 'float',
                                                'ScreenPorch': 'float',
                                                'PoolArea': 'float'})








PlotScatter(HousePricesDF['LotFrontage'], HousePricesDF['SalePrice'], "Lot Frontage Size by Sale Price", "ft", "US$", 0, 0)


HousePricesDF.query('LotFrontage > 200')





PlotScatter(HousePricesDF['LotArea'], HousePricesDF['SalePrice'], "Lot Area by Sale Price", "ft²", "US$", 1, 8.5)


HousePricesDF.query('LotArea >= 40000')





PlotScatter(HousePricesDF['YearBuilt'], HousePricesDF['SalePrice'], "House Year Built by Sale Price", "", "US$", 0, 0)


HousePricesDF.query('YearBuilt < 1900 & SalePrice > 250000')


HousePricesDF.query('(YearBuilt < 1900 & SalePrice > 400000) | (YearBuilt > 1980 & SalePrice > 700000)')





PlotScatter(HousePricesDF['YearRemodAdd'], HousePricesDF['SalePrice'], "Remodel Date by Sale Price", "", "US$", 0, 0)





PlotScatter(HousePricesDF['MasVnrArea'], HousePricesDF['SalePrice'], " Masonry Veneer Area by Sale Price", "ft²", "US$", 1, 0)


HousePricesDF.query('MasVnrArea > 1000')





PlotScatter(HousePricesDF['BsmtFinSF1'], HousePricesDF['SalePrice'], "Bsmt Type 1 Area by Sale Price", "ft²", "US$", 1, 0)


HousePricesDF.query('BsmtFinSF1 > 1800')





PlotScatter(HousePricesDF['BsmtFinSF2'], HousePricesDF['SalePrice'], "Bsmt Type 2 Area by Sale Price", "ft²", "US$", 1, 0)


HousePricesDF.query('BsmtFinSF2 > 1200')





PlotScatter(HousePricesDF['BsmtUnfSF'], HousePricesDF['SalePrice'], "Unfinished Area of Basement by Sale Price", "ft²", "US$", 1, 7)


HousePricesDF.query('BsmtUnfSF > 1990')





PlotScatter(HousePricesDF['TotalBsmtSF'], HousePricesDF['SalePrice'], "Total Basement Area by Sale Price", "ft²", "US$", 1, 0)


HousePricesDF.query('TotalBsmtSF > 3000')





PlotScatter(HousePricesDF['1stFlrSF'], HousePricesDF['SalePrice'], "1st Floor Area by Sale Price", "ft²", "US$", 1, 0)


HousePricesDF.query('`1stFlrSF` > 2500')





PlotScatter(HousePricesDF['2ndFlrSF'], HousePricesDF['SalePrice'], "2nd Floor Area by Sale Price", "ft²", "US$", 1, 0)


HousePricesDF.query('`2ndFlrSF` > 1750')





PlotScatter(HousePricesDF['LowQualFinSF'], HousePricesDF['SalePrice'], "Low Quality Finished Area by Sale Price", "ft²", "US$", 1, 0)





PlotScatter(HousePricesDF['GrLivArea'], HousePricesDF['SalePrice'], "Above Grade Area by Sale Price", "ft²", "US$", 1, 0)


HousePricesDF.query('GrLivArea > 4000')





PlotScatter(HousePricesDF['BsmtFullBath'], HousePricesDF['SalePrice'], "Bsmt Full Bathrooms by Sale Price", "", "US$", 1, 0)


HousePricesDF.query('BsmtFullBath > 2')





PlotScatter(HousePricesDF['BsmtHalfBath'], HousePricesDF['SalePrice'], "Bsmt Half Bathrooms by Sale Price", "", "US$", 1, 0)


HousePricesDF.query('BsmtHalfBath > 1')





PlotScatter(HousePricesDF['FullBath'], HousePricesDF['SalePrice'], "Full Bathrooms by Sale Price", "", "US$", 1, 0)





PlotScatter(HousePricesDF['HalfBath'], HousePricesDF['SalePrice'], "Full Bathrooms by Sale Price", "", "US$", 1, 0)





PlotScatter(HousePricesDF['BedroomAbvGr'], HousePricesDF['SalePrice'], "Bedrooms by Sale Price", "", "US$", 1, 0)


HousePricesDF.query('BedroomAbvGr < 1 | BedroomAbvGr > 7')[['Id', 'BedroomAbvGr', 'YrSold', 'SalePrice']]





PlotScatter(HousePricesDF['KitchenAbvGr'], HousePricesDF['SalePrice'], "Kitchens by Sale Price", "", "US$", 1, 0)


HousePricesDF.query('KitchenAbvGr < 1 | KitchenAbvGr > 2')[['Id', 'KitchenAbvGr', 'YrSold', 'SalePrice']]





PlotScatter(HousePricesDF['TotRmsAbvGrd'], HousePricesDF['SalePrice'], "Total Rooms by Sale Price", "", "US$", 1, 0)


HousePricesDF.query('TotRmsAbvGrd < 3 | TotRmsAbvGrd > 12')[['Id', 'TotRmsAbvGrd', 'YrSold', 'SalePrice']]





PlotScatter(HousePricesDF['Fireplaces'], HousePricesDF['SalePrice'], "Fireplaces by Sale Price", "", "US$", 1, 0)


HousePricesDF.query('Fireplaces > 2')





PlotScatter(HousePricesDF['GarageYrBlt'], HousePricesDF['SalePrice'], "Garage Year Built by Sale Price", "", "US$", 1, 0)





PlotScatter(HousePricesDF['GarageCars'], HousePricesDF['SalePrice'], "Garage Size (# Cars) by Sale Price", "", "US$", 1, 0)


HousePricesDF.query('GarageCars > 3')





PlotScatter(HousePricesDF['GarageArea'], HousePricesDF['SalePrice'], "Garage Size by Sale Price", "ft²", "US$", 1, 0)


HousePricesDF.query('GarageArea > 1100')





PlotScatter(HousePricesDF['WoodDeckSF'], HousePricesDF['SalePrice'], "Wood Deck Area by Sale Price", "ft²", "US$", 1, 0)


HousePricesDF.query('WoodDeckSF > 600')





PlotScatter(HousePricesDF['OpenPorchSF'], HousePricesDF['SalePrice'], "Open Porch Area by Sale Price", "ft²", "US$", 1, 0)


HousePricesDF.query('OpenPorchSF > 350')





PlotScatter(HousePricesDF['EnclosedPorch'], HousePricesDF['SalePrice'], "Enclosed Porch Area by Sale Price", "ft²", "US$", 1, 0)


HousePricesDF.query('EnclosedPorch > 350')





PlotScatter(HousePricesDF['3SsnPorch'], HousePricesDF['SalePrice'], "Three Season Porch Area by Sale Price", "ft²", "US$", 1, 0)





PlotScatter(HousePricesDF['ScreenPorch'], HousePricesDF['SalePrice'], "Screen Porch Area by Sale Price", "ft²", "US$", 1, 0)


HousePricesDF.query('ScreenPorch > 350')





PlotScatter(HousePricesDF['PoolArea'], HousePricesDF['SalePrice'], "Pool Area by Sale Price", "ft²", "US$", 1, 0)





PlotScatter(HousePricesDF['MoSold'], HousePricesDF['SalePrice'], "Month Sold by Sale Price", "", "US$", 0, 0)





PlotScatter(HousePricesDF['YrSold'], HousePricesDF['SalePrice'], "Year Sold by Sale Price", "", "US$", 0, 8)





values = [49, 54, 59, 71, 106, 116, 167, 186, 189, 198, 250, 298, 305, 314, 323, 333, 336, 360, 385, 421, 427, 452, 458, 496, 518,
          524, 530, 534, 582, 584, 598, 606, 626, 635, 636, 662, 692, 707, 739, 748, 756, 770, 809, 810, 849, 855, 876, 935,
          955, 982, 1025, 1045, 1062, 1069, 1164, 1170, 1183, 1191, 1211, 1214, 1271, 1290, 1299, 1314, 1329, 1341, 1351, 1387, 1397, 1460]

HousePricesDF = HousePricesDF[HousePricesDF.Id.isin(values) == False].copy()


HousePricesDF.reset_index(drop=True, inplace=True)


HousePricesDF.shape





HousePricesDF3 = HousePricesDF.copy()

















HousePricesDF['MSSubClass'].value_counts(normalize=True) * 100


HousePricesDF['MSSubClass'] = HousePricesDF['MSSubClass'].replace({45: "Other", 75: "Other", 180: "Other", 40: "Other"})
HousePricesDF_test['MSSubClass'] = HousePricesDF_test['MSSubClass'].replace({45: "Other", 75: "Other", 180: "Other", 40: "Other"})

KFTE(HousePricesDF, HousePricesDF_test, 'MSSubClass', 'SalePrice')


PlotBoxPlot(HousePricesDF['MSSubClass'], HousePricesDF['SalePrice'], "Building Classification by Sale Price", "US$")
print("\nCorrelation:", HousePricesDF['SalePrice'].corr(HousePricesDF['MSSubClass_E']))


HousePricesDF['MSSubClass'] = HousePricesDF['MSSubClass_E'].copy()
HousePricesDF = HousePricesDF.drop('MSSubClass_E', axis = 1)





HousePricesDF['MSZoning'].value_counts(normalize=True) * 100


HousePricesDF.groupby('MSZoning')[['SalePrice']].mean()





KFTE(HousePricesDF, HousePricesDF_test, 'MSZoning', 'SalePrice')


PlotBoxPlot(HousePricesDF['MSZoning'], HousePricesDF['SalePrice'], "Zoning Classification by Sale Price", "US$")
print("\nCorrelation:", HousePricesDF['SalePrice'].corr(HousePricesDF['MSZoning_E']))


HousePricesDF['MSZoning'] = HousePricesDF['MSZoning_E'].copy()
HousePricesDF = HousePricesDF.drop('MSZoning_E', axis = 1)





PlotRegPlot(HousePricesDF['LotFrontage'], HousePricesDF['SalePrice'], "Lot Frontage Size by Sale Price", "ft", "US$")
print("\nCorrelation:", HousePricesDF['SalePrice'].corr(HousePricesDF['LotFrontage']))





PlotRegPlot(HousePricesDF['LotArea'], HousePricesDF['SalePrice'], "Lot Area by Sale Price", "ft²", "US$")
print("\nCorrelation:", HousePricesDF['SalePrice'].corr(HousePricesDF['LotArea']))





HousePricesDF['Street'].value_counts(normalize=True) * 100


HousePricesDF = HousePricesDF.drop('Street', axis = 1)
HousePricesDF_test = HousePricesDF_test.drop('Street', axis = 1)





HousePricesDF['LotShape'].value_counts(normalize=True) * 100


HousePricesDF.groupby('LotShape')[['SalePrice']].mean()


HousePricesDF['LotShape'] = HousePricesDF['LotShape'].replace({"IR2": "Other", "IR3": "Other"})
HousePricesDF_test['LotShape'] = HousePricesDF_test['LotShape'].replace({"IR2": "Other", "IR3": "Other"})

KFTE(HousePricesDF, HousePricesDF_test, 'LotShape', 'SalePrice')


PlotBoxPlot(HousePricesDF['LotShape'], HousePricesDF['SalePrice'], "Shape of Property by Sale Price", "US$")
print("\nCorrelation:", HousePricesDF['SalePrice'].corr(HousePricesDF['LotShape_E']))


HousePricesDF['LotShape'] = HousePricesDF['LotShape_E'].copy()
HousePricesDF = HousePricesDF.drop('LotShape_E', axis = 1)





HousePricesDF['LandContour'].value_counts(normalize=True) * 100


KFTE(HousePricesDF, HousePricesDF_test, 'LandContour', 'SalePrice')


PlotBoxPlot(HousePricesDF['LandContour'], HousePricesDF['SalePrice'], "Flatness of Property by Sale Price", "US$")
print("\nCorrelation:", HousePricesDF['SalePrice'].corr(HousePricesDF['LandContour_E']))


HousePricesDF['LandContour'] = HousePricesDF['LandContour_E'].copy()
HousePricesDF = HousePricesDF.drop('LandContour_E', axis = 1)








HousePricesDF['Utilities'].value_counts(normalize=True) * 100


HousePricesDF = HousePricesDF.drop('Utilities', axis = 1)
HousePricesDF_test = HousePricesDF_test.drop('Utilities', axis = 1)





HousePricesDF['LotConfig'].value_counts(normalize=True) * 100


HousePricesDF.groupby('LotConfig')[['SalePrice']].mean()


KFTE(HousePricesDF, HousePricesDF_test, 'LotConfig', 'SalePrice')


PlotBoxPlot(HousePricesDF['LotConfig'], HousePricesDF['SalePrice'], "Lot Configuration by Sale Price", "US$")
print("\nCorrelation:", HousePricesDF['SalePrice'].corr(HousePricesDF['LotConfig_E']))


HousePricesDF = HousePricesDF.drop(columns = {'LotConfig', 'LotConfig_E'}, axis = 1)


HousePricesDF_test = HousePricesDF_test.drop(columns = {'LotConfig'}, axis = 1)





HousePricesDF['LandSlope'].value_counts(normalize=True) * 100


HousePricesDF.groupby('LandSlope')[['SalePrice']].mean()


HousePricesDF['LandSlope'] = HousePricesDF['LandSlope'].replace({"Mod": "Other", "Sev": "Other"})
HousePricesDF_test['LandSlope'] = HousePricesDF_test['LandSlope'].replace({"Mod": "Other", "Sev": "Other"})

KFTE(HousePricesDF, HousePricesDF_test, 'LandSlope', 'SalePrice')


PlotBoxPlot(HousePricesDF['LandSlope'], HousePricesDF['SalePrice'], "Slope of Property by Sale Price", "US$")
print("\nCorrelation:", HousePricesDF['SalePrice'].corr(HousePricesDF['LandSlope_E']))


HousePricesDF = HousePricesDF.drop(columns = {'LandSlope', 'LandSlope_E'}, axis = 1)


HousePricesDF_test = HousePricesDF_test.drop('LandSlope', axis = 1)





HousePricesDF['Neighborhood'].value_counts(normalize=True) * 100


HousePricesDF['Neighborhood'] = HousePricesDF['Neighborhood'].replace({"Veenker": "Other", "NPkVill": "Other", "Blueste": "Other"})
HousePricesDF_test['Neighborhood'] = HousePricesDF_test['Neighborhood'].replace({"Veenker": "Other", "NPkVill": "Other", "Blueste": "Other"})

KFTE(HousePricesDF, HousePricesDF_test, 'Neighborhood', 'SalePrice')


PlotBoxPlotV2(HousePricesDF['Neighborhood'], HousePricesDF['SalePrice'], "Neighborhood by Sale Price", "US$", 9, 5)
print("\nCorrelation:", HousePricesDF['SalePrice'].corr(HousePricesDF['Neighborhood_E']))


HousePricesDF['Neighborhood'] = HousePricesDF['Neighborhood_E'].copy()
HousePricesDF = HousePricesDF.drop('Neighborhood_E', axis = 1)





HousePricesDF['Condition1'].value_counts(normalize=True) * 100


HousePricesDF['Condition1'] = HousePricesDF['Condition1'].replace({"RRAe": "Other", "PosA": "Other", "RRNn": "Other", "RRNe": "Other"})
HousePricesDF_test['Condition1'] = HousePricesDF_test['Condition1'].replace({"RRAe": "Other", "PosA": "Other", "RRNn": "Other", "RRNe": "Other"})

KFTE(HousePricesDF, HousePricesDF_test, 'Condition1', 'SalePrice')


PlotBoxPlot(HousePricesDF['Condition1'], HousePricesDF['SalePrice'], "Proximity to Main Road/Railroad by Sale Price", "US$")
print("\nCorrelation:", HousePricesDF['SalePrice'].corr(HousePricesDF['Condition1_E']))


HousePricesDF['Condition1'] = HousePricesDF['Condition1_E'].copy()
HousePricesDF = HousePricesDF.drop('Condition1_E', axis = 1)





HousePricesDF['Condition2'].value_counts(normalize=True) * 100


HousePricesDF['Condition2'] = HousePricesDF['Condition2'].replace({"Norm": 1, "Feedr": 0, "Artery": 0, "RRNn": 0, "PosN": 0, "RRAn": 0, "RRAe": 0})
print("Correlation:", HousePricesDF['SalePrice'].corr(HousePricesDF['Condition2']))


HousePricesDF = HousePricesDF.drop('Condition2', axis = 1)


HousePricesDF_test = HousePricesDF_test.drop('Condition2', axis = 1)





HousePricesDF['BldgType'].value_counts(normalize=True) * 100


KFTE(HousePricesDF, HousePricesDF_test, 'BldgType', 'SalePrice')


PlotBoxPlot(HousePricesDF['BldgType'], HousePricesDF['SalePrice'], "Type of Dwelling by Sale Price", "US$")
print("\nCorrelation:", HousePricesDF['SalePrice'].corr(HousePricesDF['BldgType_E']))


HousePricesDF['BldgType'] = HousePricesDF['BldgType_E'].copy()
HousePricesDF = HousePricesDF.drop('BldgType_E', axis = 1)





HousePricesDF['HouseStyle'].value_counts(normalize=True) * 100


HousePricesDF['HouseStyle'] = HousePricesDF['HouseStyle'].replace({"2.5Unf": "Other", "2.5Fin": "Other"})
HousePricesDF_test['HouseStyle'] = HousePricesDF_test['HouseStyle'].replace({"2.5Unf": "Other", "2.5Fin": "Other"})

KFTE(HousePricesDF, HousePricesDF_test, 'HouseStyle', 'SalePrice')


PlotBoxPlot(HousePricesDF['HouseStyle'], HousePricesDF['SalePrice'], "Style of Dwelling by Sale Price", "US$")
print("\nCorrelation:", HousePricesDF['SalePrice'].corr(HousePricesDF['HouseStyle_E']))


HousePricesDF['HouseStyle'] = HousePricesDF['HouseStyle_E'].copy()
HousePricesDF = HousePricesDF.drop('HouseStyle_E', axis = 1)





HousePricesDF['OverallQual'].value_counts(normalize=True) * 100


HousePricesDF['OverallQual'] = HousePricesDF['OverallQual'].replace({10: "Other", 2: "Other", 1: "Other"})
HousePricesDF_test['OverallQual'] = HousePricesDF_test['OverallQual'].replace({10: "Other", 2: "Other", 1: "Other"})

KFTE(HousePricesDF, HousePricesDF_test, 'OverallQual', 'SalePrice')


PlotBoxPlot(HousePricesDF['OverallQual'], HousePricesDF['SalePrice'], "Overall Quality by Sale Price", "US$")
print("\nCorrelation:", HousePricesDF['SalePrice'].corr(HousePricesDF['OverallQual_E']))


HousePricesDF['OverallQual'] = HousePricesDF['OverallQual_E'].copy()
HousePricesDF = HousePricesDF.drop('OverallQual_E', axis = 1)





HousePricesDF['OverallCond'].value_counts(normalize=True) * 100


HousePricesDF['OverallCond'] = HousePricesDF['OverallCond'].replace({2: "Other", 1: "Other"})
HousePricesDF_test['OverallCond'] = HousePricesDF_test['OverallCond'].replace({2: "Other", 1: "Other"})

KFTE(HousePricesDF, HousePricesDF_test, 'OverallCond', 'SalePrice')


PlotBoxPlot(HousePricesDF['OverallCond'], HousePricesDF['SalePrice'], "Overall Condition by Sale Price", "US$")
print("\nCorrelation:", HousePricesDF['SalePrice'].corr(HousePricesDF['OverallCond_E']))


HousePricesDF['OverallCond'] = HousePricesDF['OverallCond_E'].copy()
HousePricesDF = HousePricesDF.drop('OverallCond_E', axis = 1)





PlotRegPlot(HousePricesDF['YearBuilt'], HousePricesDF['SalePrice'], "Year Built by Sale Price", "", "US$")
print("\nCorrelation:", HousePricesDF['SalePrice'].corr(HousePricesDF['YearBuilt']))





PlotRegPlot(HousePricesDF['YearRemodAdd'], HousePricesDF['SalePrice'], "Year Remodeling by Sale Price", "ft²", "US$")
print("\nCorrelation:", HousePricesDF['SalePrice'].corr(HousePricesDF['YearRemodAdd']))





HousePricesDF['RoofStyle'].value_counts(normalize=True) * 100


HousePricesDF['RoofStyle'] = HousePricesDF['RoofStyle'].replace({"Gambrel": "Other", "Flat": "Other", "Mansard	": "Other", "Shed": "Other"})
HousePricesDF_test['RoofStyle'] = HousePricesDF_test['RoofStyle'].replace({"Gambrel": "Other", "Flat": "Other", "Mansard	": "Other", "Shed": "Other"})

KFTE(HousePricesDF, HousePricesDF_test, 'RoofStyle', 'SalePrice')


PlotBoxPlot(HousePricesDF['RoofStyle'], HousePricesDF['SalePrice'], "Type of Roof by Sale Price", "US$")
print("\nCorrelation:", HousePricesDF['SalePrice'].corr(HousePricesDF['RoofStyle_E']))


HousePricesDF['RoofStyle'] = HousePricesDF['RoofStyle_E'].copy()
HousePricesDF = HousePricesDF.drop('RoofStyle_E', axis = 1)





HousePricesDF['RoofMatl'].value_counts(normalize=True) * 100


HousePricesDF['RoofMatl'] = HousePricesDF['RoofMatl'].replace({"CompShg": 1, "Tar&Grv": 0, "WdShake": 0, "Metal": 0, "Membran": 0, "WdShngl": 0, "Roll": 0})
print("Correlation:", HousePricesDF['SalePrice'].corr(HousePricesDF['RoofMatl']))


HousePricesDF = HousePricesDF.drop('RoofMatl', axis = 1)


HousePricesDF_test = HousePricesDF_test.drop('RoofMatl', axis = 1)





HousePricesDF['Exterior1st'].value_counts(normalize=True) * 100


HousePricesDF['Exterior1st'] = HousePricesDF['Exterior1st'].replace({"BrkComm": "Other", "AsphShn": "Other", "Stone": "Other", "ImStucc": "Other", "CBlock": "Other"})
HousePricesDF_test['Exterior1st'] = HousePricesDF_test['Exterior1st'].replace({"BrkComm": "Other", "AsphShn": "Other", "Stone": "Other", "ImStucc": "Other", "CBlock": "Other"})

KFTE(HousePricesDF, HousePricesDF_test, 'Exterior1st', 'SalePrice')


PlotBoxPlot(HousePricesDF['Exterior1st'], HousePricesDF['SalePrice'], "Exterior Covering by Sale Price", "US$")
print("\nCorrelation:", HousePricesDF['SalePrice'].corr(HousePricesDF['Exterior1st_E']))


HousePricesDF['Exterior1st'] = HousePricesDF['Exterior1st_E'].copy()
HousePricesDF = HousePricesDF.drop('Exterior1st_E', axis = 1)





HousePricesDF['Exterior2nd'].value_counts(normalize=True) * 100


HousePricesDF['Exterior2nd'] = HousePricesDF['Exterior2nd'].replace({"ImStucc": "Other", "Brk Cmn": "Other", "Stone": "Other", "AsphShn": "Other", "CBlock": "Other"})
HousePricesDF_test['Exterior2nd'] = HousePricesDF_test['Exterior2nd'].replace({"ImStucc": "Other", "Brk Cmn": "Other", "Stone": "Other", "AsphShn": "Other", "CBlock": "Other"})

KFTE(HousePricesDF, HousePricesDF_test, 'Exterior2nd', 'SalePrice')


PlotBoxPlotV2(HousePricesDF['Exterior2nd'], HousePricesDF['SalePrice'], "Exterior Covering by Sale Price [2]", "US$", 9, 5)
print("\nCorrelation:", HousePricesDF['SalePrice'].corr(HousePricesDF['Exterior2nd_E']))


HousePricesDF['Exterior2nd'] = HousePricesDF['Exterior2nd_E'].copy()
HousePricesDF = HousePricesDF.drop('Exterior2nd_E', axis = 1)





HousePricesDF['MasVnrType'].value_counts(normalize=True) * 100


KFTE(HousePricesDF, HousePricesDF_test, 'MasVnrType', 'SalePrice')


PlotBoxPlot(HousePricesDF['MasVnrType'], HousePricesDF['SalePrice'], "Masonry Veneer Type by Sale Price", "US$")
print("\nCorrelation:", HousePricesDF['SalePrice'].corr(HousePricesDF['MasVnrType_E']))


HousePricesDF['MasVnrType'] = HousePricesDF['MasVnrType_E'].copy()
HousePricesDF = HousePricesDF.drop('MasVnrType_E', axis = 1)





PlotRegPlot(HousePricesDF['MasVnrArea'], HousePricesDF['SalePrice'], "Masonry Veneer Area by Sale Price", "ft²", "US$")
print("\nCorrelation:", HousePricesDF['SalePrice'].corr(HousePricesDF['MasVnrArea']))





HousePricesDF['ExterQual'].value_counts(normalize=True) * 100


HousePricesDF['ExterQual'] = HousePricesDF['ExterQual'].replace({"Ex": "Other", "Fa": "Other"})
HousePricesDF_test['ExterQual'] = HousePricesDF_test['ExterQual'].replace({"Ex": "Other", "Fa": "Other"})

KFTE(HousePricesDF, HousePricesDF_test, 'ExterQual', 'SalePrice')


PlotBoxPlot(HousePricesDF['ExterQual'], HousePricesDF['SalePrice'], "Exterior Quality by Sale Price", "US$")
print("\nCorrelation:", HousePricesDF['SalePrice'].corr(HousePricesDF['ExterQual_E']))


HousePricesDF['ExterQual'] = HousePricesDF['ExterQual_E'].copy()
HousePricesDF = HousePricesDF.drop('ExterQual_E', axis = 1)





HousePricesDF['ExterCond'].value_counts(normalize=True) * 100


HousePricesDF['ExterCond'] = HousePricesDF['ExterCond'].replace({"Ex": "Other", "Po": "Other"})
HousePricesDF_test['ExterCond'] = HousePricesDF_test['ExterCond'].replace({"Ex": "Other", "Po": "Other"})

KFTE(HousePricesDF, HousePricesDF_test, 'ExterCond', 'SalePrice')


PlotBoxPlot(HousePricesDF['ExterCond'], HousePricesDF['SalePrice'], "Exterior Condition by Sale Price", "US$")
print("\nCorrelation:", HousePricesDF['SalePrice'].corr(HousePricesDF['ExterCond_E']))


HousePricesDF['ExterCond'] = HousePricesDF['ExterCond_E'].copy()
HousePricesDF = HousePricesDF.drop('ExterCond_E', axis = 1)





HousePricesDF['Foundation'].value_counts(normalize=True) * 100


HousePricesDF['Foundation'] = HousePricesDF['Foundation'].replace({"Slab": "Other", "Stone": "Other", "Wood": "Other"})
HousePricesDF_test['Foundation'] = HousePricesDF_test['Foundation'].replace({"Slab": "Other", "Stone": "Other", "Wood": "Other"})

KFTE(HousePricesDF, HousePricesDF_test, 'Foundation', 'SalePrice')


PlotBoxPlot(HousePricesDF['Foundation'], HousePricesDF['SalePrice'], "Type of Foundation by Sale Price", "US$")
print("\nCorrelation:", HousePricesDF['SalePrice'].corr(HousePricesDF['Foundation_E']))


HousePricesDF['Foundation'] = HousePricesDF['Foundation_E'].copy()
HousePricesDF = HousePricesDF.drop('Foundation_E', axis = 1)





HousePricesDF['BsmtQual'].value_counts(normalize=True) * 100


KFTE(HousePricesDF, HousePricesDF_test, 'BsmtQual', 'SalePrice')

PlotBoxPlot(HousePricesDF['BsmtQual'], HousePricesDF['SalePrice'], "Basement Height by Sale Price", "US$")
print("\nCorrelation:", HousePricesDF['SalePrice'].corr(HousePricesDF['BsmtQual_E']))


HousePricesDF['BsmtQual'] = HousePricesDF['BsmtQual_E'].copy()
HousePricesDF = HousePricesDF.drop('BsmtQual_E', axis = 1)





HousePricesDF['BsmtCond'].value_counts(normalize=True) * 100


KFTE(HousePricesDF, HousePricesDF_test, 'BsmtCond', 'SalePrice')

PlotBoxPlot(HousePricesDF['BsmtCond'], HousePricesDF['SalePrice'], "Basement Condition by Sale Price", "US$")
print("\nCorrelation:", HousePricesDF['SalePrice'].corr(HousePricesDF['BsmtCond_E']))


HousePricesDF['BsmtCond'] = HousePricesDF['BsmtCond_E'].copy()
HousePricesDF = HousePricesDF.drop('BsmtCond_E', axis = 1)





HousePricesDF['BsmtExposure'].value_counts(normalize=True) * 100


KFTE(HousePricesDF, HousePricesDF_test, 'BsmtExposure', 'SalePrice')

PlotBoxPlot(HousePricesDF['BsmtExposure'], HousePricesDF['SalePrice'], "Basement Exposure by Sale Price", "US$")
print("\nCorrelation:", HousePricesDF['SalePrice'].corr(HousePricesDF['BsmtExposure_E']))


HousePricesDF['BsmtExposure'] = HousePricesDF['BsmtExposure_E'].copy()
HousePricesDF = HousePricesDF.drop('BsmtExposure_E', axis = 1)





HousePricesDF['BsmtFinType1'].value_counts(normalize=True) * 100


KFTE(HousePricesDF, HousePricesDF_test, 'BsmtFinType1', 'SalePrice')

PlotBoxPlot(HousePricesDF['BsmtFinType1'], HousePricesDF['SalePrice'], "Basement Quality by Sale Price", "US$")
print("\nCorrelation:", HousePricesDF['SalePrice'].corr(HousePricesDF['BsmtFinType1_E']))


HousePricesDF['BsmtFinType1'] = HousePricesDF['BsmtFinType1_E'].copy()
HousePricesDF = HousePricesDF.drop('BsmtFinType1_E', axis = 1)





PlotRegPlot(HousePricesDF['BsmtFinSF1'], HousePricesDF['SalePrice'], "Bsmt Type 1 Area by Sale Price", "ft²", "US$")
print("\nCorrelation:", HousePricesDF['SalePrice'].corr(HousePricesDF['BsmtFinSF1']))





HousePricesDF['BsmtFinType2'].value_counts(normalize=True) * 100


KFTE(HousePricesDF, HousePricesDF_test, 'BsmtFinType2', 'SalePrice')

PlotBoxPlot(HousePricesDF['BsmtFinType2'], HousePricesDF['SalePrice'], "Basement Quality by Sale Price [2]", "US$")
print("\nCorrelation:", HousePricesDF['SalePrice'].corr(HousePricesDF['BsmtFinType2_E']))


HousePricesDF['BsmtFinType2'] = HousePricesDF['BsmtFinType2_E'].copy()
HousePricesDF = HousePricesDF.drop('BsmtFinType2_E', axis = 1)





PlotRegPlot(HousePricesDF['BsmtFinSF2'], HousePricesDF['SalePrice'], "Bsmt Type 2 Area by Sale Price", "ft²", "US$")
print("\nCorrelation:", HousePricesDF['SalePrice'].corr(HousePricesDF['BsmtFinSF2']))


HousePricesDF = HousePricesDF.drop('BsmtFinSF2', axis = 1)


HousePricesDF_test = HousePricesDF_test.drop('BsmtFinSF2', axis = 1)





PlotRegPlot(HousePricesDF['BsmtUnfSF'], HousePricesDF['SalePrice'], "Bsmt Unfinished Area by Sale Price", "ft²", "US$")
print("\nCorrelation:", HousePricesDF['SalePrice'].corr(HousePricesDF['BsmtUnfSF']))





PlotRegPlot(HousePricesDF['TotalBsmtSF'], HousePricesDF['SalePrice'], "Total Bsmt Area by Sale Price", "ft²", "US$")
print("\nCorrelation:", HousePricesDF['SalePrice'].corr(HousePricesDF['TotalBsmtSF']))





HousePricesDF['Heating'].value_counts(normalize=True) * 100


HousePricesDF['Heating'] = HousePricesDF['Heating'].replace({"GasA": 1, "GasW": 0, "Grav": 0, "Wall": 0, "OthW": 0, "Floor": 0})
print("Correlation:", HousePricesDF['SalePrice'].corr(HousePricesDF['Heating']))


HousePricesDF_test['Heating'] = HousePricesDF_test['Heating'].replace({"GasA": 1, "GasW": 0, "Grav": 0, "Wall": 0, "OthW": 0, "Floor": 0})
HousePricesDF_test = HousePricesDF_test.rename(columns = {"Heating": "Heating_GasA"})

HousePricesDF = HousePricesDF.rename(columns = {"Heating": "Heating_GasA"})





HousePricesDF['HeatingQC'].value_counts(normalize=True) * 100


HousePricesDF['HeatingQC'] = HousePricesDF['HeatingQC'].replace({"Fa": "Other", "Po": "Other"})
HousePricesDF_test['HeatingQC'] = HousePricesDF_test['HeatingQC'].replace({"Fa": "Other", "Po": "Other"})

KFTE(HousePricesDF, HousePricesDF_test, 'HeatingQC', 'SalePrice')

PlotBoxPlot(HousePricesDF['HeatingQC'], HousePricesDF['SalePrice'], "Heating Quality by Sale Price", "US$")
print("\nCorrelation:", HousePricesDF['SalePrice'].corr(HousePricesDF['HeatingQC_E']))


HousePricesDF['HeatingQC'] = HousePricesDF['HeatingQC_E'].copy()
HousePricesDF = HousePricesDF.drop('HeatingQC_E', axis = 1)





HousePricesDF['CentralAir'].value_counts(normalize=True) * 100


HousePricesDF['CentralAir'] = HousePricesDF['CentralAir'].replace({"Y": 1, "N": 0})
HousePricesDF_test['CentralAir'] = HousePricesDF_test['CentralAir'].replace({"Y": 1, "N": 0})

print("Correlation:", HousePricesDF['SalePrice'].corr(HousePricesDF['CentralAir']))





HousePricesDF['Electrical'].value_counts(normalize=True) * 100


HousePricesDF['Electrical'] = HousePricesDF['Electrical'].replace({"FuseF": "Other", "FuseP": "Other", "Mix": "Other"})
HousePricesDF_test['Electrical'] = HousePricesDF_test['Electrical'].replace({"FuseF": "Other", "FuseP": "Other", "Mix": "Other"})

KFTE(HousePricesDF, HousePricesDF_test, 'Electrical', 'SalePrice')

PlotBoxPlot(HousePricesDF['Electrical'], HousePricesDF['SalePrice'], "Electrical System by Sale Price", "US$")
print("\nCorrelation:", HousePricesDF['SalePrice'].corr(HousePricesDF['Electrical_E']))


HousePricesDF['Electrical'] = HousePricesDF['Electrical_E'].copy()
HousePricesDF = HousePricesDF.drop('Electrical_E', axis = 1)





PlotRegPlot(HousePricesDF['1stFlrSF'], HousePricesDF['SalePrice'], "First Floor Area by Sale Price", "ft²", "US$")
print("\nCorrelation:", HousePricesDF['SalePrice'].corr(HousePricesDF['1stFlrSF']))





PlotRegPlot(HousePricesDF['2ndFlrSF'], HousePricesDF['SalePrice'], "Second Floor Area by Sale Price", "ft²", "US$")
print("\nCorrelation:", HousePricesDF['SalePrice'].corr(HousePricesDF['2ndFlrSF']))





PlotRegPlot(HousePricesDF['LowQualFinSF'], HousePricesDF['SalePrice'], "Low Quality Finish Area by Sale Price", "ft²", "US$")
print("\nCorrelation:", HousePricesDF['SalePrice'].corr(HousePricesDF['LowQualFinSF']))


HousePricesDF['HasLowQualFin'] = HousePricesDF['LowQualFinSF'].map({0: 0}).fillna(1)
print("Correlation:", HousePricesDF['SalePrice'].corr(HousePricesDF['HasLowQualFin']))


HousePricesDF = HousePricesDF.drop(columns = {'LowQualFinSF', 'HasLowQualFin'}, axis = 1)


HousePricesDF_test = HousePricesDF_test.drop('LowQualFinSF', axis = 1)





PlotRegPlot(HousePricesDF['GrLivArea'], HousePricesDF['SalePrice'], "Above Ground Living Area by Sale Price", "ft²", "US$")
print("\nCorrelation:", HousePricesDF['SalePrice'].corr(HousePricesDF['GrLivArea']))





KFTE(HousePricesDF, HousePricesDF_test, 'BsmtFullBath', 'SalePrice')

PlotBoxPlot(HousePricesDF['BsmtFullBath'], HousePricesDF['SalePrice'], "# Bsmt Full Bathrooms by Sale Price", "US$")
print("\nCorrelation:", HousePricesDF['SalePrice'].corr(HousePricesDF['BsmtFullBath_E']))





PlotBoxPlot(HousePricesDF['BsmtHalfBath'], HousePricesDF['SalePrice'], "# Bsmt Half Bathrooms by Sale Price", "US$")
print("\nCorrelation:", HousePricesDF['SalePrice'].corr(HousePricesDF['BsmtHalfBath']))





KFTE(HousePricesDF, HousePricesDF_test, 'FullBath', 'SalePrice')

PlotBoxPlot(HousePricesDF['FullBath'], HousePricesDF['SalePrice'], "# Full Bathrooms Abv Ground by Sale Price", "US$")
print("\nCorrelation:", HousePricesDF['SalePrice'].corr(HousePricesDF['FullBath_E']))





KFTE(HousePricesDF, HousePricesDF_test, 'HalfBath', 'SalePrice')

PlotBoxPlot(HousePricesDF['HalfBath'], HousePricesDF['SalePrice'], "# Half Bathrooms Abv Ground by Sale Price", "US$")
print("\nCorrelation:", HousePricesDF['SalePrice'].corr(HousePricesDF['HalfBath_E']))





KFTE(HousePricesDF, HousePricesDF_test, 'BedroomAbvGr', 'SalePrice')

PlotBoxPlot(HousePricesDF['BedroomAbvGr'], HousePricesDF['SalePrice'], "# Bedrooms Abv Ground by Sale Price", "US$")
print("\nCorrelation:", HousePricesDF['SalePrice'].corr(HousePricesDF['BedroomAbvGr_E']))





KFTE(HousePricesDF, HousePricesDF_test, 'KitchenAbvGr', 'SalePrice')

PlotBoxPlot(HousePricesDF['KitchenAbvGr'], HousePricesDF['SalePrice'], "# Kitchens Abv Ground by Sale Price", "US$")
print("\nCorrelation:", HousePricesDF['SalePrice'].corr(HousePricesDF['KitchenAbvGr_E']))





HousePricesDF['KitchenQual'].value_counts(normalize=True) * 100


KFTE(HousePricesDF, HousePricesDF_test, 'KitchenQual', 'SalePrice')

PlotBoxPlot(HousePricesDF['KitchenQual'], HousePricesDF['SalePrice'], "Kitchen Quality by Sale Price", "US$")
print("\nCorrelation:", HousePricesDF['SalePrice'].corr(HousePricesDF['KitchenQual_E']))


HousePricesDF['KitchenQual'] = HousePricesDF['KitchenQual_E'].copy()
HousePricesDF = HousePricesDF.drop('KitchenQual_E', axis = 1)





HousePricesDF['TotRmsAbvGrd'].value_counts(normalize=True) * 100


HousePricesDF['TotRmsAbvGrd'] = HousePricesDF['TotRmsAbvGrd'].replace({11: "Other", 12: "Other"})
HousePricesDF_test['TotRmsAbvGrd'] = HousePricesDF_test['TotRmsAbvGrd'].replace({11: "Other", 12: "Other"})

KFTE(HousePricesDF, HousePricesDF_test, 'TotRmsAbvGrd', 'SalePrice')

PlotBoxPlot(HousePricesDF['TotRmsAbvGrd'], HousePricesDF['SalePrice'], "Total Rooms Above Ground by Sale Price", "US$")
print("\nCorrelation:", HousePricesDF['SalePrice'].corr(HousePricesDF['TotRmsAbvGrd_E']))


HousePricesDF['TotRmsAbvGrd'] = HousePricesDF['TotRmsAbvGrd_E'].copy()
HousePricesDF = HousePricesDF.drop('TotRmsAbvGrd_E', axis = 1)





HousePricesDF['Functional'].value_counts(normalize=True) * 100


HousePricesDF['Functional'] = HousePricesDF['Functional'].replace({"Mod": "Other", "Maj1": "Other", "Maj2": "Other", "Sev": "Other"})
HousePricesDF_test['Functional'] = HousePricesDF_test['Functional'].replace({"Mod": "Other", "Maj1": "Other", "Maj2": "Other", "Sev": "Other"})

KFTE(HousePricesDF, HousePricesDF_test, 'Functional', 'SalePrice')

PlotBoxPlot(HousePricesDF['Functional'], HousePricesDF['SalePrice'], "Home Functionality Rating by Sale Price", "US$")
print("\nCorrelation:", HousePricesDF['SalePrice'].corr(HousePricesDF['Functional_E']))


HousePricesDF['Functional'] = HousePricesDF['Functional_E'].copy()
HousePricesDF = HousePricesDF.drop('Functional_E', axis = 1)





HousePricesDF['Fireplaces'].value_counts(normalize=True) * 100


HousePricesDF['Fireplaces'] = HousePricesDF['Fireplaces'].replace({2: "Other", 3: "Other"})
HousePricesDF_test['Fireplaces'] = HousePricesDF_test['Fireplaces'].replace({2: "Other", 3: "Other"})

KFTE(HousePricesDF, HousePricesDF_test, 'Fireplaces', 'SalePrice')

PlotBoxPlot(HousePricesDF['Fireplaces'], HousePricesDF['SalePrice'], "# of Fireplaces by Sale Price", "US$")
print("\nCorrelation:", HousePricesDF['SalePrice'].corr(HousePricesDF['Fireplaces_E']))





HousePricesDF['FireplaceQu'].value_counts(normalize=True) * 100


KFTE(HousePricesDF, HousePricesDF_test, 'FireplaceQu', 'SalePrice')

PlotBoxPlot(HousePricesDF['FireplaceQu'], HousePricesDF['SalePrice'], "Fireplace Quality by Sale Price", "US$")
print("\nCorrelation:", HousePricesDF['SalePrice'].corr(HousePricesDF['FireplaceQu_E']))


HousePricesDF['FireplaceQu'] = HousePricesDF['FireplaceQu_E'].copy()
HousePricesDF = HousePricesDF.drop('FireplaceQu_E', axis = 1)





HousePricesDF['GarageType'].value_counts(normalize=True) * 100


HousePricesDF['GarageType'] = HousePricesDF['GarageType'].replace({"Basment": "Other", "CarPort": "Other", "2Types": "Other"})
HousePricesDF_test['GarageType'] = HousePricesDF_test['GarageType'].replace({"Basment": "Other", "CarPort": "Other", "2Types": "Other"})

KFTE(HousePricesDF, HousePricesDF_test, 'GarageType', 'SalePrice')

PlotBoxPlot(HousePricesDF['GarageType'], HousePricesDF['SalePrice'], "Garage Location by Sale Price", "US$")
print("\nCorrelation:", HousePricesDF['SalePrice'].corr(HousePricesDF['GarageType_E']))


HousePricesDF['GarageType'] = HousePricesDF['GarageType_E'].copy()
HousePricesDF = HousePricesDF.drop('GarageType_E', axis = 1)





print("Correlation:", HousePricesDF['SalePrice'].corr(HousePricesDF['GarageYrBlt']))





HousePricesDF['GarageFinish'].value_counts(normalize=True) * 100


KFTE(HousePricesDF, HousePricesDF_test, 'GarageFinish', 'SalePrice')

PlotBoxPlot(HousePricesDF['GarageFinish'], HousePricesDF['SalePrice'], "Interior Finish of the Garage by Sale Price", "US$")
print("\nCorrelation:", HousePricesDF['SalePrice'].corr(HousePricesDF['GarageFinish_E']))


HousePricesDF['GarageFinish'] = HousePricesDF['GarageFinish_E'].copy()
HousePricesDF = HousePricesDF.drop('GarageFinish_E', axis = 1)





HousePricesDF['GarageCars'].value_counts(normalize=True) * 100


KFTE(HousePricesDF, HousePricesDF_test, 'GarageCars', 'SalePrice')

PlotBoxPlot(HousePricesDF['GarageCars'], HousePricesDF['SalePrice'], "Car Capacity of Garage by Sale Price", "US$")
print("\nCorrelation:", HousePricesDF['SalePrice'].corr(HousePricesDF['GarageCars_E']))


HousePricesDF['GarageCars'] = HousePricesDF['GarageCars_E'].copy()
HousePricesDF = HousePricesDF.drop('GarageCars_E', axis = 1)





PlotRegPlot(HousePricesDF['GarageArea'], HousePricesDF['SalePrice'], "Garage Area by Sale Price", "ft²", "US$")
print("\nCorrelation:", HousePricesDF['SalePrice'].corr(HousePricesDF['GarageArea']))





HousePricesDF['GarageQual'].value_counts(normalize=True) * 100


HousePricesDF['GarageQual'] = HousePricesDF['GarageQual'].replace({"Gd": "Other", "Po": "Other", "Ex": "Other"})
HousePricesDF_test['GarageQual'] = HousePricesDF_test['GarageQual'].replace({"Gd": "Other", "Po": "Other", "Ex": "Other"})

KFTE(HousePricesDF, HousePricesDF_test, 'GarageQual', 'SalePrice')

PlotBoxPlot(HousePricesDF['GarageQual'], HousePricesDF['SalePrice'], "# of GarageQual by Sale Price", "US$")
print("\nCorrelation:", HousePricesDF['SalePrice'].corr(HousePricesDF['GarageQual_E']))


HousePricesDF['GarageQual'] = HousePricesDF['GarageQual_E'].copy()
HousePricesDF = HousePricesDF.drop('GarageQual_E', axis = 1)





HousePricesDF['GarageCond'].value_counts(normalize=True) * 100


HousePricesDF['GarageCond'] = HousePricesDF['GarageCond'].replace({"Gd": "Other", "Po": "Other", "Ex": "Other"})
HousePricesDF_test['GarageCond'] = HousePricesDF_test['GarageCond'].replace({"Gd": "Other", "Po": "Other", "Ex": "Other"})

KFTE(HousePricesDF, HousePricesDF_test, 'GarageCond', 'SalePrice')

PlotBoxPlot(HousePricesDF['GarageCond'], HousePricesDF['SalePrice'], "Garage Condition by Sale Price", "US$")
print("\nCorrelation:", HousePricesDF['SalePrice'].corr(HousePricesDF['GarageCond_E']))


HousePricesDF['GarageCond'] = HousePricesDF['GarageCond_E'].copy()
HousePricesDF = HousePricesDF.drop('GarageCond_E', axis = 1)





HousePricesDF['PavedDrive'].value_counts(normalize=True) * 100


KFTE(HousePricesDF, HousePricesDF_test, 'PavedDrive', 'SalePrice')

PlotBoxPlot(HousePricesDF['PavedDrive'], HousePricesDF['SalePrice'], "Paved Driveway by Sale Price", "US$")
print("\nCorrelation:", HousePricesDF['SalePrice'].corr(HousePricesDF['PavedDrive_E']))


HousePricesDF['PavedDrive'] = HousePricesDF['PavedDrive_E'].copy()
HousePricesDF = HousePricesDF.drop('PavedDrive_E', axis = 1)





PlotRegPlot(HousePricesDF['WoodDeckSF'], HousePricesDF['SalePrice'], "Wood Deck Area by Sale Price", "ft²", "US$")
print("\nCorrelation:", HousePricesDF['SalePrice'].corr(HousePricesDF['WoodDeckSF']))





PlotRegPlot(HousePricesDF['OpenPorchSF'], HousePricesDF['SalePrice'], "Open Porch Area by Sale Price", "ft²", "US$")
print("\nCorrelation:", HousePricesDF['SalePrice'].corr(HousePricesDF['OpenPorchSF']))





PlotRegPlot(HousePricesDF['EnclosedPorch'], HousePricesDF['SalePrice'], "Enclosed Porch Area by Sale Price", "ft²", "US$")
print("\nCorrelation:", HousePricesDF['SalePrice'].corr(HousePricesDF['EnclosedPorch']))





PlotRegPlot(HousePricesDF['3SsnPorch'], HousePricesDF['SalePrice'], "Three Season Porch Area by Sale Price", "ft²", "US$")
print("\nCorrelation:", HousePricesDF['SalePrice'].corr(HousePricesDF['3SsnPorch']))





PlotRegPlot(HousePricesDF['ScreenPorch'], HousePricesDF['SalePrice'], "Screen Porch Area by Sale Price", "ft²", "US$")
print("\nCorrelation:", HousePricesDF['SalePrice'].corr(HousePricesDF['ScreenPorch']))





PlotRegPlot(HousePricesDF['PoolArea'], HousePricesDF['SalePrice'], "Pool Area by Sale Price", "ft²", "US$")
print("\nCorrelation:", HousePricesDF['SalePrice'].corr(HousePricesDF['PoolArea']))





HousePricesDF['PoolQC'].value_counts(normalize=True) * 100


HousePricesDF = HousePricesDF.drop('PoolQC', axis = 1)
HousePricesDF_test = HousePricesDF_test.drop('PoolQC', axis = 1)





print("\nCorrelation:", HousePricesDF['SalePrice'].corr(HousePricesDF['YrSold']))





HousePricesDF['SaleType'].value_counts(normalize=True) * 100


HousePricesDF['SaleType'] = HousePricesDF['SaleType'].replace({"ConLD": "Other", "ConLI": "Other", "ConLw": "Other", "CWD": "Other", "Oth": "Other", "Con": "Other"})
HousePricesDF_test['SaleType'] = HousePricesDF_test['SaleType'].replace({"ConLD": "Other", "ConLI": "Other", "ConLw": "Other", "CWD": "Other", "Oth": "Other", "Con": "Other"})

KFTE(HousePricesDF, HousePricesDF_test, 'SaleType', 'SalePrice')

PlotBoxPlot(HousePricesDF['SaleType'], HousePricesDF['SalePrice'], "Sale Type by Sale Price", "US$")
print("\nCorrelation:", HousePricesDF['SalePrice'].corr(HousePricesDF['SaleType_E']))


HousePricesDF['SaleType'] = HousePricesDF['SaleType_E'].copy()
HousePricesDF = HousePricesDF.drop('SaleType_E', axis = 1)





HousePricesDF['SaleCondition'].value_counts(normalize=True) * 100


HousePricesDF['SaleCondition'] = HousePricesDF['SaleCondition'].replace({"Family": "Other", "Alloca": "Other", "AdjLand": "Other"})
HousePricesDF_test['SaleCondition'] = HousePricesDF_test['SaleCondition'].replace({"Family": "Other", "Alloca": "Other", "AdjLand": "Other"})

KFTE(HousePricesDF, HousePricesDF_test, 'SaleCondition', 'SalePrice')

PlotBoxPlot(HousePricesDF['SaleCondition'], HousePricesDF['SalePrice'], "Sale Condition by Sale Price", "US$")
print("\nCorrelation:", HousePricesDF['SalePrice'].corr(HousePricesDF['SaleCondition_E']))


HousePricesDF['SaleCondition'] = HousePricesDF['SaleCondition_E'].copy()
HousePricesDF = HousePricesDF.drop('SaleCondition_E', axis = 1)





HousePricesDF['HouseAge'] = HousePricesDF['YrSold'] - HousePricesDF['YearBuilt']
print("Correlation:", HousePricesDF['SalePrice'].corr(HousePricesDF['HouseAge']))


HousePricesDF_test['HouseAge'] = HousePricesDF_test['YrSold'] - HousePricesDF_test['YearBuilt']


HousePricesDF['RemodelAge'] = HousePricesDF['YrSold'] - HousePricesDF['YearRemodAdd']
print("Correlation:", HousePricesDF['SalePrice'].corr(HousePricesDF['RemodelAge']))


HousePricesDF_test['RemodelAge'] = HousePricesDF_test['YrSold'] - HousePricesDF_test['YearRemodAdd']


HousePricesDF['GarageAge'] = HousePricesDF['YrSold'] - HousePricesDF['GarageYrBlt']
print("Correlation:", HousePricesDF['SalePrice'].corr(HousePricesDF['GarageAge']))


HousePricesDF_test['GarageAge'] = HousePricesDF_test['YrSold'] - HousePricesDF_test['GarageYrBlt']


HousePricesDF['OutdoorArea'] = HousePricesDF['WoodDeckSF'] + HousePricesDF['OpenPorchSF']
print("Correlation:", HousePricesDF['SalePrice'].corr(HousePricesDF['OutdoorArea']))


HousePricesDF_test['OutdoorArea'] = HousePricesDF_test['WoodDeckSF'] + HousePricesDF_test['OpenPorchSF']


HousePricesDF['TotalArea'] = HousePricesDF['TotalBsmtSF'] + HousePricesDF['GrLivArea'] + HousePricesDF['GarageArea'] + HousePricesDF['OutdoorArea']
print("Correlation:", HousePricesDF['SalePrice'].corr(HousePricesDF['TotalArea']))


HousePricesDF_test['TotalArea'] = HousePricesDF_test['TotalBsmtSF'] + HousePricesDF_test['GrLivArea'] + HousePricesDF_test['GarageArea'] + HousePricesDF_test['OutdoorArea']


HousePricesDF['TotalBathrooms'] = HousePricesDF['BsmtFullBath'] + HousePricesDF['FullBath'] + 0.5 * (HousePricesDF['BsmtHalfBath'] + HousePricesDF['HalfBath'])
print("Correlation:", HousePricesDF['SalePrice'].corr(HousePricesDF['TotalBathrooms']))


HousePricesDF_test['TotalBathrooms'] = HousePricesDF_test['BsmtFullBath'] + HousePricesDF_test['FullBath']\
                                          + 0.5 * (HousePricesDF_test['BsmtHalfBath'] + HousePricesDF_test['HalfBath'])


HousePricesDF['OverallScore'] = HousePricesDF['OverallQual'] * HousePricesDF['OverallCond']
print("Correlation:", HousePricesDF['SalePrice'].corr(HousePricesDF['OverallScore']))


HousePricesDF_test['OverallScore'] = HousePricesDF_test['OverallQual'] * HousePricesDF_test['OverallCond']


HousePricesDF['ExteriorScore'] = HousePricesDF['ExterQual'] * HousePricesDF['ExterCond']
print("Correlation:", HousePricesDF['SalePrice'].corr(HousePricesDF['ExteriorScore']))


HousePricesDF_test['ExteriorScore'] = HousePricesDF_test['ExterQual'] * HousePricesDF_test['ExterCond']


HousePricesDF['KitchenScore'] = HousePricesDF['KitchenQual'] * HousePricesDF['KitchenAbvGr']
print("Correlation:", HousePricesDF['SalePrice'].corr(HousePricesDF['KitchenScore']))


HousePricesDF_test['KitchenScore'] = HousePricesDF_test['KitchenQual'] * HousePricesDF_test['KitchenAbvGr']


HousePricesDF['LotFrontageRatio'] = HousePricesDF['LotFrontage'] / HousePricesDF['LotArea']
print("Correlation:", HousePricesDF['SalePrice'].corr(HousePricesDF['LotFrontageRatio']))


HousePricesDF_test['LotFrontageRatio'] = HousePricesDF_test['LotFrontage'] / HousePricesDF_test['LotArea']


HousePricesDF['BedroomRatio'] = HousePricesDF['BedroomAbvGr'] / HousePricesDF['TotRmsAbvGrd']
print("Correlation:", HousePricesDF['SalePrice'].corr(HousePricesDF['BedroomRatio']))


HousePricesDF_test['BedroomRatio'] = HousePricesDF_test['BedroomAbvGr'] / HousePricesDF_test['TotRmsAbvGrd']


HousePricesDF['HasGarage'] = HousePricesDF['GarageArea'].map({0: 0}).fillna(1)
print("Correlation:", HousePricesDF['SalePrice'].corr(HousePricesDF['HasGarage']))


HousePricesDF_test['HasGarage'] = HousePricesDF_test['GarageArea'].map({0: 0}).fillna(1)


HousePricesDF['HasPool'] = HousePricesDF['PoolArea'].map({0: 0}).fillna(1)
print("Correlation:", HousePricesDF['SalePrice'].corr(HousePricesDF['HasPool']))


HousePricesDF = HousePricesDF.drop('HasPool', axis = 1)


HousePricesDF['HasFireplace'] = HousePricesDF['Fireplaces'].map({0: 0}).fillna(1)
print("Correlation:", HousePricesDF['SalePrice'].corr(HousePricesDF['HasFireplace']))


HousePricesDF_test['HasFireplace'] = HousePricesDF_test['Fireplaces'].map({0: 0}).fillna(1)


HousePricesDF['GarageScore'] = HousePricesDF['GarageQual'] * HousePricesDF['GarageArea']
print("Correlation:", HousePricesDF['SalePrice'].corr(HousePricesDF['GarageScore']))


HousePricesDF_test['GarageScore'] = HousePricesDF_test['GarageQual'] * HousePricesDF_test['GarageArea']


HousePricesDF['TotalPorchArea'] = HousePricesDF['OpenPorchSF'] + HousePricesDF['EnclosedPorch'] + HousePricesDF['3SsnPorch'] + HousePricesDF['ScreenPorch']
print("Correlation:", HousePricesDF['SalePrice'].corr(HousePricesDF['TotalPorchArea']))


HousePricesDF_test['TotalPorchArea'] = HousePricesDF_test['OpenPorchSF'] + HousePricesDF_test['EnclosedPorch']\
                                          + HousePricesDF_test['3SsnPorch'] + HousePricesDF_test['ScreenPorch']


HousePricesDF['SeasonSold'] = HousePricesDF['MoSold'].replace({1: 1, 2: 1, 3: 2, 4: 2, 5: 2, 6: 3, 7: 3, 8: 3, 9: 4, 10: 4, 11: 4, 12: 1})
HousePricesDF_test['SeasonSold'] = HousePricesDF_test['MoSold'].replace({1: 1, 2: 1, 3: 2, 4: 2, 5: 2, 6: 3, 7: 3, 8: 3, 9: 4, 10: 4, 11: 4, 12: 1})

KFTE(HousePricesDF, HousePricesDF_test, 'SeasonSold', 'SalePrice')
print("Correlation:", HousePricesDF['SalePrice'].corr(HousePricesDF['SeasonSold_E']))


HousePricesDF = HousePricesDF.drop(columns = {'SeasonSold', 'SeasonSold_E'}, axis = 1)
HousePricesDF_test = HousePricesDF_test.drop('SeasonSold', axis = 1)


def DecadeBuilt(YearBuilt):
  if (YearBuilt < 1880):
    return 1870
  elif (YearBuilt < 1890):
    return 1880
  elif (YearBuilt < 1900):
    return 1890
  elif (YearBuilt < 1910):
    return 1900
  elif (YearBuilt < 1920):
    return 1910
  elif (YearBuilt < 1930):
    return 1920
  elif (YearBuilt < 1940):
    return 1930
  elif (YearBuilt < 1950):
    return 1940
  elif (YearBuilt < 1960):
    return 1950
  elif (YearBuilt < 1970):
    return 1960
  elif (YearBuilt < 1980):
    return 1970
  elif (YearBuilt < 1990):
    return 1980
  elif (YearBuilt < 2000):
    return 1990
  elif (YearBuilt < 2010):
    return 2000
  else:
    return 2010


HousePricesDF['DecadeBuilt'] = HousePricesDF['YearBuilt'].apply(DecadeBuilt)
HousePricesDF_test['DecadeBuilt'] = HousePricesDF_test['YearBuilt'].apply(DecadeBuilt)

KFTE(HousePricesDF, HousePricesDF_test, 'DecadeBuilt', 'SalePrice')
print("Correlation:", HousePricesDF['SalePrice'].corr(HousePricesDF['DecadeBuilt_E']))


HousePricesDF['DecadeBuilt'] = HousePricesDF['DecadeBuilt_E'].copy()
HousePricesDF = HousePricesDF.drop('DecadeBuilt_E', axis = 1)


HousePricesDF['BsmtFullBath'] = HousePricesDF['BsmtFullBath_E'].copy()
HousePricesDF = HousePricesDF.drop('BsmtFullBath_E', axis = 1)

HousePricesDF['FullBath'] = HousePricesDF['FullBath_E'].copy()
HousePricesDF = HousePricesDF.drop('FullBath_E', axis = 1)

HousePricesDF = HousePricesDF.drop('BsmtHalfBath', axis = 1)
HousePricesDF_test = HousePricesDF_test.drop('BsmtHalfBath', axis = 1)

HousePricesDF['HalfBath'] = HousePricesDF['HalfBath_E'].copy()
HousePricesDF = HousePricesDF.drop('HalfBath_E', axis = 1)

HousePricesDF['BedroomAbvGr'] = HousePricesDF['BedroomAbvGr_E'].copy()
HousePricesDF = HousePricesDF.drop('BedroomAbvGr_E', axis = 1)

HousePricesDF['KitchenAbvGr'] = HousePricesDF['KitchenAbvGr_E'].copy()
HousePricesDF = HousePricesDF.drop('KitchenAbvGr_E', axis = 1)

HousePricesDF['Fireplaces'] = HousePricesDF['Fireplaces_E'].copy()
HousePricesDF = HousePricesDF.drop('Fireplaces_E', axis = 1)

HousePricesDF = HousePricesDF.drop('3SsnPorch', axis = 1)
HousePricesDF_test = HousePricesDF_test.drop('3SsnPorch', axis = 1)

HousePricesDF = HousePricesDF.drop('ScreenPorch', axis = 1)
HousePricesDF_test = HousePricesDF_test.drop('ScreenPorch', axis = 1)

HousePricesDF = HousePricesDF.drop('PoolArea', axis = 1)
HousePricesDF_test = HousePricesDF_test.drop('PoolArea', axis = 1)

HousePricesDF = HousePricesDF.drop(columns = {'MoSold'}, axis = 1)
HousePricesDF_test = HousePricesDF_test.drop('MoSold', axis = 1)

HousePricesDF = HousePricesDF.drop('YrSold', axis = 1)
HousePricesDF_test = HousePricesDF_test.drop('YrSold', axis = 1)

HousePricesDF = HousePricesDF.drop('Id', axis = 1)

HousePricesDF = HousePricesDF.drop('OverallQual', axis = 1)
HousePricesDF_test = HousePricesDF_test.drop('OverallQual', axis = 1)


HousePricesDF.corr()['SalePrice']





Q1 = HousePricesDF['SalePrice'].quantile(0.25)
Q3 = HousePricesDF['SalePrice'].quantile(0.75)
IQR = Q3 - Q1

lower_bound = Q1 - 1.5 * IQR
upper_bound = Q3 + 1.5 * IQR

print(f"Valores abaixo de {lower_bound} e acima de {upper_bound} podem ser outliers.")


HousePricesDF = HousePricesDF[(HousePricesDF3['SalePrice'] >= 50000) & (HousePricesDF['SalePrice'] <= 328750)]


HistPlot(HousePricesDF['SalePrice'], "Sale Price Histogram", "US$", 8)





HousePricesDF['SalePrice'] = np.log(HousePricesDF['SalePrice'])
HistPlot(HousePricesDF['SalePrice'], "Sale Price Histogram", "US$", 8)





HousePricesDF5 = HousePricesDF.copy()


x_data = HousePricesDF.drop(columns = {'SalePrice'}, axis = 1)
y_data = HousePricesDF[['SalePrice']]

Scaler = MaxAbsScaler().fit(x_data)

x_data = pd.DataFrame(Scaler.transform(x_data), columns = x_data.columns)


HousePricesDF_test_backup = HousePricesDF_test.copy()


yhat_sub = HousePricesDF_test[['Id']]
HousePricesDF_test = HousePricesDF_test.drop(columns = {'Id'}, axis = 1).copy()

HousePricesDF_test = pd.DataFrame(Scaler.transform(HousePricesDF_test), columns = HousePricesDF_test.columns)





HousePricesDF_corBU = HousePricesDF.copy()


columns = ['YearBuilt', 'GarageYrBlt', 'GarageArea', 'ExterQual', 'ExterCond', 'YearRemodAdd', 'WoodDeckSF', 'OpenPorchSF', 'TotalBsmtSF', 'GrLivArea', 'GarageArea',
           'OutdoorArea', 'BsmtFullBath', 'FullBath', 'HalfBath', 'OverallCond', 'KitchenQual','KitchenAbvGr', 'LotArea', 'LotFrontage',
           'BedroomAbvGr', 'TotRmsAbvGrd', 'Fireplaces', 'GarageQual', 'OpenPorchSF', 'EnclosedPorch']

x_data = x_data.drop(columns = columns, axis = 1)
HousePricesDF_test = HousePricesDF_test.drop(columns = columns, axis = 1)


# Features with strong correlation with other features
columns = ['DecadeBuilt', 'GarageAge', 'SaleType', 'GarageCars']

x_data = x_data.drop(columns = columns, axis = 1)
HousePricesDF_test = HousePricesDF_test.drop(columns = columns, axis = 1)


import seaborn as sns
import matplotlib.pyplot as plt

df_corr = x_data.copy()
corr_matrix = df_corr.corr()

plt.figure(figsize=(58,50))
sns.heatmap(corr_matrix, annot=True, linewidths=1, linecolor='white', cmap='coolwarm', fmt=".2f")
plt.show()





X_num = x_data[['HouseAge', 'RemodelAge']]
vif_data = pd.DataFrame()
vif_data["Feature"] = X_num.columns
vif_data["VIF"] = [variance_inflation_factor(X_num.values, i) for i in range(len(X_num.columns))]

vif_data





x_train, x_test, y_train, y_test = train_test_split(x_data, y_data, test_size=0.30, random_state=13)


lgbm = LGBMRegressor(verbose=0)
lgbm.fit(x_train, y_train)
yhat1 = lgbm.predict(x_test)

xgbr = xgb.XGBRegressor()
xgbr.fit(x_train, y_train)
yhat2 = xgbr.predict(x_test)

cbr = CatBoostRegressor(verbose=0)
cbr.fit(x_train, y_train)
yhat3 = cbr.predict(x_test)

feature_importances = pd.DataFrame({'Feature': x_data.columns, 'LGBMR_Importance': lgbm.feature_importances_, 'XGBR_Importance': xgbr.feature_importances_,
                                    'CBR_Importance': cbr.feature_importances_})
feature_importances = feature_importances.sort_values(by='LGBMR_Importance', ascending=False)

feature_importances


print("LGBMRegressor:", root_mean_squared_error(y_test, yhat1))
print("XGBRegressor:", root_mean_squared_error(y_test, yhat2))
print("CatBoostRegressor:", root_mean_squared_error(y_test, yhat3))


x_data_lgbm = x_data.drop(columns = {'HasGarage', 'Heating_GasA', 'CentralAir', 'HasFireplace'}, axis = 1)
x_train_lgbm, x_test_lgbm, y_train, y_test = train_test_split(x_data_lgbm, y_data, test_size=0.30, random_state=13)


x_data_xgbr = x_data[['TotalArea', 'ExteriorScore', 'CentralAir', 'Neighborhood', 'RemodelAge', '2ndFlrSF', 'OverallScore', 'GarageCond', 'TotalBathrooms',
                      'HasFireplace', 'Functional', 'SaleCondition', 'BsmtQual', 'FireplaceQu']]
x_train_xgbr, x_test_xgbr, _, _ = train_test_split(x_data_xgbr, y_data, test_size=0.30, random_state=13)


x_data_cbr = x_data.drop(columns = {'Heating_GasA'}, axis = 1)
x_train_cbr, x_test_cbr, _, _ = train_test_split(x_data_cbr, y_data, test_size=0.30, random_state=13)


lgbm = LGBMRegressor(verbose=0)
lgbm.fit(x_train_lgbm, y_train)
yhat1 = lgbm.predict(x_test_lgbm)

xgbr = xgb.XGBRegressor()
xgbr.fit(x_train_xgbr, y_train)
yhat2 = xgbr.predict(x_test_xgbr)

cbr = CatBoostRegressor(verbose=0)
cbr.fit(x_train_cbr, y_train)
yhat3 = cbr.predict(x_test_cbr)

print("LGBMRegressor:", root_mean_squared_error(y_test, yhat1))
print("XGBRegressor:", root_mean_squared_error(y_test, yhat2))
print("CatBoostRegressor:", root_mean_squared_error(y_test, yhat3))


x_data_cbr = x_data
x_train_cbr, x_test_cbr, _, _ = train_test_split(x_data_cbr, y_data, test_size=0.30, random_state=13)











lgbm = LGBMRegressor()
lgbm.fit(x_train_lgbm, y_train)

yhat_lgbm = lgbm.predict(x_test_lgbm)


PlotFitted(y_test, yhat_lgbm, "Actual vs Predicted Values for Sale Price")





def objective(trial):
    params = {
        "n_estimators": trial.suggest_int("n_estimators", 500, 5000),
        "learning_rate": trial.suggest_float("learning_rate", 0.005, 0.1),
        "max_depth": trial.suggest_int("max_depth", 4, 16),  # Aumentamos o limite superior
        "num_leaves": trial.suggest_int("num_leaves", 20, 100),  # Antes era até 150
        "colsample_bytree": trial.suggest_float("colsample_bytree", 0.7, 1.0),
        "subsample": trial.suggest_float("subsample", 0.7, 1.0),  
        "min_child_samples": trial.suggest_int("min_child_samples", 1, 20),  # Reduzimos o máximo de 30 para 20
        "min_gain_to_split": trial.suggest_float("min_gain_to_split", 0.0001, 0.05),  # Antes era até 0.1
        "reg_alpha": trial.suggest_float("reg_alpha", 1e-5, 10),
        "reg_lambda": trial.suggest_float("reg_lambda", 1e-5, 10)
    }

    model = LGBMRegressor(**params, verbose=-1)
    model.fit(x_train_lgbm, y_train)
    y_pred = model.predict(x_test_lgbm)
    return np.sqrt(mean_squared_error(y_test, y_pred))

study = optuna.create_study(direction="minimize")
study.optimize(objective, n_trials=500)

print('\n\nBest trial:', study.best_trial.params)


lgbm_op = LGBMRegressor(
    n_estimators = 2391,
    learning_rate = 0.08277051522405833,
    max_depth = 5,
    num_leaves = 67,
    colsample_bytree = 0.7098135848645357,
    subsample = 0.7383149254095133,
    min_child_samples = 19,
    min_gain_to_split = 0.0033243802246136823,
    reg_alpha = 0.42674775699851086,
    reg_lambda = 9.999131897270862,
    verbose = -1
)
lgbm_op.fit(x_train_lgbm, y_train)

yhat_lgbm_op = lgbm_op.predict(x_test_lgbm)

PlotFitted(y_test, yhat_lgbm_op, "Actual vs Predicted Values for Sale Price")








xgbr = xgb.XGBRegressor()
xgbr.fit(x_train_xgbr, y_train)

yhat_xgbr = xgbr.predict(x_test_xgbr)

PlotFitted(y_test, yhat_xgbr, "Actual vs Predicted Values for Sale Price")





def objective(trial):
    params = {
        'max_depth': trial.suggest_int('max_depth', 3, 10),
        'learning_rate': trial.suggest_float('learning_rate', 0.01, 0.3),
        'n_estimators': trial.suggest_int('n_estimators', 100, 1000),
        'min_child_weight': trial.suggest_int('min_child_weight', 1, 10),
        'gamma': trial.suggest_float('gamma', 0.0, 0.5),
        'subsample': trial.suggest_float('subsample', 0.5, 1.0),
        'colsample_bytree': trial.suggest_float('colsample_bytree', 0.5, 1.0),
        'reg_alpha': trial.suggest_float('reg_alpha', 0, 1),
        'reg_lambda': trial.suggest_float('reg_lambda', 0, 1),
    }

    model = xgb.XGBRegressor(**params)
    model.fit(x_train_xgbr, y_train)
    y_pred = model.predict(x_test_xgbr)
    return root_mean_squared_error(y_test, y_pred)

study = optuna.create_study(direction='minimize')
study.optimize(objective, n_trials=500)

print('\n\nBest trial:', study.best_trial.params)


xgb_op = xgb.XGBRegressor(
    max_depth = 9,
    learning_rate = 0.045008671397212374,
    n_estimators = 844,
    min_child_weight = 8,
    gamma = 0.020185251969114915,
    subsample = 0.6943055593786345,
    colsample_bytree = 0.6140114550155719,
    reg_alpha = 0.42505734486672364,
    reg_lambda = 0.02556079337395177
)

xgb_op.fit(x_train_xgbr, y_train)
yhat_xgbr_op = xgb_op.predict(x_test_xgbr)

PlotFitted(y_test, yhat_xgbr_op, "Actual vs Predicted Values for Sale Price")








cbr = CatBoostRegressor(verbose=0)
cbr.fit(x_train_cbr, y_train)

yhat_cbr = cbr.predict(x_test_cbr)

PlotFitted(y_test, yhat_cbr, "Actual vs Predicted Values for Sale Price")





def objective(trial):
    params = {
        "iterations": trial.suggest_int("iterations", 500, 2000),  # Limitamos para acelerar
        "learning_rate": trial.suggest_float("learning_rate", 0.01, 0.2),
        "depth": trial.suggest_int("depth", 4, 10),  # Controla complexidade das árvores
        "l2_leaf_reg": trial.suggest_float("l2_leaf_reg", 1, 10),  # Regularização
        "random_strength": trial.suggest_float("random_strength", 1e-9, 10),
        "bagging_temperature": trial.suggest_float("bagging_temperature", 0, 1),
        "border_count": trial.suggest_int("border_count", 32, 255),
        "subsample": trial.suggest_float("subsample", 0.5, 1.0)
    }

    model = CatBoostRegressor(**params, verbose=0)
    model.fit(x_train_cbr, y_train)
    y_pred = model.predict(x_test_cbr)
    return np.sqrt(mean_squared_error(y_test, y_pred))

study = optuna.create_study(direction="minimize")
study.optimize(objective, n_trials=500)

print('\n\nBest trial:', study.best_trial.params)


cbr_op = CatBoostRegressor(
    verbose=0,
    iterations = 1425,
    learning_rate = 0.022225572351488122,
    depth = 4,
    l2_leaf_reg = 1.7388518866456844,
    random_strength = 3.038417682635791,
    bagging_temperature = 0.7145145378854341,
    border_count = 139,
    subsample = 0.6234263371411372
)
cbr_op.fit(x_train_cbr, y_train)

yhat_cbr_op = cbr_op.predict(x_test_cbr)

PlotFitted(y_test, yhat_cbr_op, "Actual vs Predicted Values for Sale Price")





i = pd.DataFrame({'Model': ['LGBMRegressor', 'XGBRegressor', 'CatBoostRegressor'],
                 'RSME': [root_mean_squared_error(y_test, yhat_lgbm), root_mean_squared_error(y_test, yhat_xgbr), root_mean_squared_error(y_test, yhat_cbr)],
                 'RSME Tuned': [root_mean_squared_error(y_test, yhat_lgbm_op), root_mean_squared_error(y_test, yhat_xgbr_op), root_mean_squared_error(y_test, yhat_cbr_op)]})

i = i.set_index('Model')
i





!pip install tensorflow


import tensorflow
from tensorflow import keras
from tensorflow.keras.models import Sequential
from tensorflow.keras.layers import Dense, Dropout, BatchNormalization
from tensorflow.keras.optimizers import Adam
from tensorflow.keras.callbacks import EarlyStopping


train_preds = np.column_stack([
    lgbm_op.predict(x_train_lgbm),
    xgb_op.predict(x_train_xgbr),
    cbr_op.predict(x_train_cbr)
])

test_preds = np.column_stack([
    yhat_lgbm_op,
    yhat_xgbr_op,
    yhat_cbr_op
])


train_preds_mean = np.mean(train_preds, axis=0)
train_preds_std = np.std(train_preds, axis=0)
train_preds = (train_preds - train_preds_mean) / train_preds_std
test_preds = (test_preds - train_preds_mean) / train_preds_std


def build_meta_model():
    model = Sequential([
        Dense(64, activation='relu', input_shape=(train_preds.shape[1],)),
        BatchNormalization(),
        Dropout(0.2),
        
        Dense(32, activation='relu'),
        BatchNormalization(),
        Dropout(0.2),
        
        Dense(16, activation='relu'),
        Dense(1, activation='linear')
    ])

    model.compile(optimizer=Adam(learning_rate=0.01), loss='mean_squared_error')
    return model


meta_model = build_meta_model()
meta_model.fit(train_preds, y_train, epochs=200, batch_size=16, validation_split=0.2, verbose=1)

yhat_stacking = meta_model.predict(test_preds).flatten()

rmse_stacking = np.sqrt(mean_squared_error(y_test, yhat_stacking))
print("\n\nRMSE do Stacking Model com Keras:", rmse_stacking)


from tensorflow.keras.callbacks import EarlyStopping


train_preds = np.column_stack([
    lgbm_op.predict(x_train_lgbm),
    xgb_op.predict(x_train_xgbr),
    cbr_op.predict(x_train_cbr)
])

test_preds = np.column_stack([
    yhat_lgbm_op,
    yhat_xgbr_op,
    yhat_cbr_op
])

# Normalizar as previsões (opcional, pode melhorar a performance do MLP)
train_preds_mean = np.mean(train_preds, axis=0)
train_preds_std = np.std(train_preds, axis=0)
train_preds = (train_preds - train_preds_mean) / train_preds_std
test_preds = (test_preds - train_preds_mean) / train_preds_std


def build_meta_model():
    model = Sequential([
        Dense(64, activation='relu', input_shape=(train_preds.shape[1],)),
        BatchNormalization(),
        Dropout(0.2),
        
        Dense(32, activation='relu'),
        BatchNormalization(),
        Dropout(0.2),
        
        Dense(16, activation='relu'),
        Dense(1, activation='linear')
    ])

    model.compile(optimizer=Adam(learning_rate=0.01), loss='mean_squared_error')
    return model


meta_model = build_meta_model()
early_stopping = EarlyStopping(monitor='val_loss', patience=15, restore_best_weights=True)
meta_model.fit(train_preds, y_train, epochs=200, batch_size=16, validation_split=0.2, verbose=1, callbacks=[early_stopping])

yhat_stacking = meta_model.predict(test_preds).flatten()

rmse_stacking = np.sqrt(mean_squared_error(y_test, yhat_stacking))
print("\n\nRMSE do Stacking Model com Keras - COM EARLY STOPPING:", rmse_stacking)


yhat_ = yhat.flatten()


PlotFittedV2(yhat_, y_test, "Actual vs Predicted Values for Sale Price", "Sale Price (Normalized)")








## **STRONG CORRELATION **





yhat_subb = model.predict(HousePricesDF_test)


yhat_sub1 = yhat_subb.flatten()


yhat_sub['SalePrice'] = np.exp(yhat_sub1)


yhat_sub = yhat_sub.set_index("Id")


yhat_sub.to_csv('HousePredictions_v2_1.csv')


api.competition_submit('HousePredictions_v2_1.csv','API Submission','house-prices-advanced-regression-techniques')
